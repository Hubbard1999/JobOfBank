{
 "cells": [
  {
   "cell_type": "code",
   "execution_count": 1,
   "metadata": {},
   "outputs": [
    {
     "name": "stdout",
     "output_type": "stream",
     "text": [
      "172.20.2.140\n"
     ]
    }
   ],
   "source": [
    "import os\n",
    "import socket\n",
    "from datetime import date,datetime,timedelta\n",
    "import time\n",
    "from pyspark import SparkContext, SparkConf\n",
    "from pyspark.sql import SparkSession\n",
    "from pyspark.sql.types import *\n",
    "import pyspark.sql.functions as F\n",
    "import socket\n",
    "\n",
    "#获取计算机名称\n",
    "hostname=socket.gethostname()\n",
    "#获取本机IP\n",
    "ip=socket.gethostbyname(hostname)\n",
    "print(ip)"
   ]
  },
  {
   "cell_type": "code",
   "execution_count": 2,
   "metadata": {},
   "outputs": [
    {
     "data": {
      "text/html": [
       "\n",
       "            <div>\n",
       "                <p><b>SparkSession - in-memory</b></p>\n",
       "                \n",
       "        <div>\n",
       "            <p><b>SparkContext</b></p>\n",
       "\n",
       "            <p><a href=\"http://172.20.2.140:4040\">Spark UI</a></p>\n",
       "\n",
       "            <dl>\n",
       "              <dt>Version</dt>\n",
       "                <dd><code>v3.0.1</code></dd>\n",
       "              <dt>Master</dt>\n",
       "                <dd><code>k8s://https://kubernetes.default.svc.cluster.local:443</code></dd>\n",
       "              <dt>AppName</dt>\n",
       "                <dd><code>huzize-AP1816</code></dd>\n",
       "            </dl>\n",
       "        </div>\n",
       "        \n",
       "            </div>\n",
       "        "
      ],
      "text/plain": [
       "<pyspark.sql.session.SparkSession at 0x7fa014da6910>"
      ]
     },
     "execution_count": 2,
     "metadata": {},
     "output_type": "execute_result"
    }
   ],
   "source": [
    "\n",
    "# 设置pyspark 提交job的环境变量\n",
    "os.environ['PYSPARK_SUBMIT_ARGS'] = '--jars /root/dependencies/xgboost4j_3.0-1.3.0-0.1.0.jar,/root/dependencies/xgboost4j-spark_3.0-1.3.0-0.1.0.jar,/root/dependencies/clickhouse-native-jdbc-2.2-stable.jar,/root/dependencies/clickhouse4j-1.4.4.jar,/root/dependencies/joda-time-2.9.9.jar pyspark-shell'\n",
    "\n",
    "# Create Spark config for our Kubernetes based cluster manager\n",
    "sparkConf = SparkConf()\n",
    "#### K8s调度 配置参数\n",
    "sparkConf.setMaster(\"k8s://https://kubernetes.default.svc.cluster.local:443\")\n",
    "sparkConf.set(\"spark.kubernetes.container.image\", \"harbor.aift.ftwhale.com/library/spark/pyspark:v3.0.1-aift\")\n",
    "sparkConf.set(\"spark.kubernetes.container.image.pullPolicy\", \"Always\")\n",
    "sparkConf.set(\"spark.kubernetes.namespace\", \"default\")\n",
    "sparkConf.set(\"spark.kubernetes.authenticate.driver.serviceAccountName\", \"spark\")\n",
    "sparkConf.set(\"spark.kubernetes.authenticate.serviceAccountName\", \"spark\")\n",
    "sparkConf.set(\"spark.kubernetes.pyspark.pythonVersion\", \"3\")\n",
    "#### 配置executor的volume挂载\n",
    "sparkConf.set(\"spark.kubernetes.executor.volumes.persistentVolumeClaim.heketi-jupyter-pvc.mount.path\",\"/root/data\")\n",
    "sparkConf.set(\"spark.kubernetes.executor.volumes.persistentVolumeClaim.heketi-jupyter-pvc.readOnly\",\"false\")\n",
    "sparkConf.set(\"spark.kubernetes.executor.volumes.persistentVolumeClaim.heketi-jupyter-pvc.options.claimName\",\"heketi-jupyter-pvc\")\n",
    "\n",
    "#### spark driver 配置                                                          ####################################获取本地ip放进去\n",
    "# sparkConf.set(\"spark.driver.host\", \"{}\".format(ip)) # 区别于其他人的jupyter（jupyter的域名） 必改！\n",
    "sparkConf.set(\"spark.driver.host\", \"172.20.2.140\")\n",
    "sparkConf.set(\"spark.driver.port\", \"29413\")\n",
    "sparkConf.set(\"spark.driver.extraClassPath\", \"/root/dependencies/xgboost4j_3.0-1.3.0-0.1.0.jar:/root/dependencies/xgboost4j-spark_3.0-1.3.0-0.1.0.jar\")\n",
    "sparkConf.set(\"spark.driver.memory\", \"8g\")\n",
    "sparkConf.set(\"spark.driver.cores\", \"1\")\n",
    "#### spark driver 调优\n",
    "sparkConf.set(\"spark.driver.allowMultipleContexts\", \"true\")\n",
    "sparkConf.set(\"spark.driver.maxResultSize\", \"7g\")            #################################################最好不大于8g\n",
    "\n",
    "#### spark executor 配置\n",
    "sparkConf.set(\"spark.executor.extraClassPath\", \"/root/dependencies/xgboost4j_3.0-1.3.0-0.1.0.jar:/root/dependencies/xgboost4j-spark_3.0-1.3.0-0.1.0.jar\")\n",
    "sparkConf.set(\"spark.executor.instances\", \"4\") # 时间计算实例的数量\n",
    "sparkConf.set(\"spark.executor.cores\", \"2\") # 每个计算实例的cpu\n",
    "sparkConf.set(\"spark.executor.memory\", \"8g\") # 每个计算实例的内存\n",
    "#### spark executor 调优\n",
    "\n",
    "\n",
    "#### spark tasks 调优\n",
    "sparkConf.set(\"spark.task.cpus\", 1)\n",
    "sparkConf.setAppName(\"huzize-AP1816\") # 区别于其他人提交任务的名称 必改！####################################改名字\n",
    "\n",
    "#### spark sql 配置\n",
    "sparkConf.set(\"spark.sql.execution.arrow.pyspark.enabled\", \"true\")\n",
    "sparkConf.set(\"spark.sql.inMemoryColumnarStorage.batchSize\",50000)\n",
    "sparkConf.set(\"spark.sql.autoBroadcastJoinThreshold\", 1024*1024*512)\n",
    "sparkConf.set(\"spark.sql.shuffle.partitions\", 100)\n",
    "sparkConf.set(\"spark.sql.parquet.columnarReaderBatchSize\", 5000000)\n",
    "sparkConf.set(\"spark.sql.files.maxPartitionBytes\", 1024*1024*512)\n",
    "sparkConf.set(\"spark.sql.broadcastTimeout\", 10*60*1000)\n",
    "sparkConf.set(\"spark.sql.adaptive.enabled\", \"true\")\n",
    "\n",
    "#### spark 其他配置参数\n",
    "sparkConf.set(\"spark.rpc.message.maxSize\", 2040)\n",
    "# sparkConf.set(\"spark.submit.pyFiles\", \"/root/dependencies/spark3-samples.zip,/root/dependencies/xgboost4j-spark_3.0-1.3.0-0.1.0.jar\")\n",
    "# sparkConf.set(\"spark.submit.pyFiles\", \"/root/data/samples.zip,/root/data/xgboost4j-spark_3.0-1.0.0-0.1.0.jar\")\n",
    "\n",
    "# Initialize our Spark cluster, this will actually\n",
    "# generate the worker nodes.\n",
    "spark = SparkSession.builder.config(conf=sparkConf).getOrCreate()\n",
    "spark"
   ]
  },
  {
   "cell_type": "code",
   "execution_count": 3,
   "metadata": {},
   "outputs": [],
   "source": [
    "def write_data_toClickHouse(target_sdf,i,table):\n",
    "    try:\n",
    "        target_sdf.write.mode(\"append\").format(\"jdbc\") \\\n",
    "            .option(\"driver\", \"com.github.housepower.jdbc.ClickHouseDriver\") \\\n",
    "            .option(\"url\", \"jdbc:clickhouse://chi-ftabc-clickhouse-{}-0.default.svc.cluster.local:9000\".format(i)) \\\n",
    "            .option(\"dbtable\", table) \\\n",
    "            .option(\"batchsize\",target_sdf.count())\\\n",
    "            .option(\"user\", \"ftabc\") \\\n",
    "            .option(\"password\", \"aihub@2020\") \\\n",
    "            .option(\"numPartitions\", \"1\") \\\n",
    "            .option(\"isolationLevel\", \"NONE\") \\\n",
    "            .option(\"truncate\", \"true\") \\\n",
    "            .save()\n",
    "    except Exception as e:\n",
    "        message = str(e).split('\\n')[1]\n",
    "        ignore_message = ': java.sql.SQLFeatureNotSupportedException'      ########################除了这个错误没关系外 其他的都有问题\n",
    "        if(message == ignore_message):\n",
    "            print('分片'+str(i)+'插入数据成功')\n",
    "        else:\n",
    "            print('分片'+str(i)+'插入数据不成功')\n",
    "    else:\n",
    "        print('分片'+str(i)+'已成功插入数据')"
   ]
  },
  {
   "cell_type": "code",
   "execution_count": 4,
   "metadata": {},
   "outputs": [],
   "source": [
    "def read_data_ClickHouse(sdf_name,i,dbtable):\n",
    "    sdf_name = spark.read.format(\"jdbc\") \\\n",
    "            .option(\"driver\", \"cc.blynk.clickhouse.ClickHouseDriver\") \\\n",
    "            .option(\"url\", \"jdbc:clickhouse://chi-ftabc-clickhouse-{}-0.default.svc.cluster.local:8123\".format(i)) \\\n",
    "            .option(\"dbtable\", dbtable) \\\n",
    "            .option(\"user\", \"ftabc\") \\\n",
    "            .option(\"password\", \"aihub@2020\") \\\n",
    "            .load()\n",
    "    return sdf_name"
   ]
  },
  {
   "cell_type": "markdown",
   "metadata": {},
   "source": [
    "----"
   ]
  },
  {
   "cell_type": "markdown",
   "metadata": {},
   "source": [
    "- 得到ods_user表的id列表"
   ]
  },
  {
   "cell_type": "code",
   "execution_count": 5,
   "metadata": {},
   "outputs": [],
   "source": [
    "sdf_ods_user = spark.read.parquet(\"/root/data/guiyang.yang/YGY/ClickHouse/data/ods_user.parquet\")"
   ]
  },
  {
   "cell_type": "code",
   "execution_count": 6,
   "metadata": {},
   "outputs": [],
   "source": [
    "list_id_collect = sdf_ods_user.select('id').collect()\n",
    "list_id = [row[0] for row in list_id_collect]"
   ]
  },
  {
   "cell_type": "code",
   "execution_count": 9,
   "metadata": {},
   "outputs": [],
   "source": [
    "list_gender = [0,1,2]\n",
    "list_user_level = [0,1,2,3,4,5]\n",
    "list_certificate = [110001,110002,110003,110004,110005,110006,110007,110008,110009,110011,\\\n",
    "                    110013,110015,110017,110018,110019,110020,110021,110022,110023,110024,\\\n",
    "                    110025,110026,110027,110028,110029,110030,110031,110033,110034,110035,\\\n",
    "                    110037,110047,110055,110057,119999]\n",
    "list_nation = [0,1,2,3,4,5,6,7,8,10,\\\n",
    "               11,12,13,14,15,16,17,18,19,20,\\\n",
    "               21,22,23,24,25,26,27,28,29,30,\\\n",
    "               31,32,33,34,35,36,37,38,39,40,\\\n",
    "               41,42,43,44,45,46,47,48,49,50,\\\n",
    "               51,52,53,54,55,56,57,98,99]\n",
    "list_education = [0,1,2,3,4,5,6,7,8,10,\\\n",
    "               11,12,13,14,15,16,17,18,19,20,\\\n",
    "               21,22,23,24,25,26,27,28,29,30,\\\n",
    "               31,32,33,34,35,36,37,38,39,40,\\\n",
    "               41,42,43,44,45,46,47,48,49,50,\\\n",
    "               51,52,53,54,55,56,57,58,59,60,\\\n",
    "               61,62,63,64,65,66,67,68,69,70,\\\n",
    "               71,72,73,74,75,76,77,78,79,80,\\\n",
    "               81,82,83,84,85,86,87,88]\n",
    "list_populatioin = [0,1,2,3,4,5,6,7,8,10,\\\n",
    "                   11,19,20,26,30,42,44,50,52,64,\\\n",
    "                   66,70,78,80,90,98,99,103,134,148,\\\n",
    "                   151,184,198,203,218,219,231,234,240,247,\\\n",
    "                   248,250,251]\n",
    "list_job_level = [0,1,2,3,4,5,6,7,8,10,\\\n",
    "                  11,12,22,32,37,42,51,52,53,57,\\\n",
    "                  58,60,63,67,72,75,78,79,80,82,\\\n",
    "                  93,98,99]\n",
    "list_relationship_type = [0,1,2]\n",
    "list_marriage = [0,1,2,3,4]\n",
    "list_inline_customer = ['0','1']"
   ]
  },
  {
   "cell_type": "markdown",
   "metadata": {},
   "source": [
    "- 将列表中的数据转化为一个dataframe，然后与ods_user连接"
   ]
  },
  {
   "cell_type": "code",
   "execution_count": 10,
   "metadata": {},
   "outputs": [],
   "source": [
    "import os\n",
    "import time\n",
    "import pandas as pd\n",
    "\n",
    "from faker import Faker\n",
    "from datetime import date,datetime,timedelta\n",
    "import random\n",
    "import numpy as np\n",
    "\n",
    "import json\n",
    "import string\n",
    "fake = Faker()             #############生成各种各样的伪数据"
   ]
  },
  {
   "cell_type": "code",
   "execution_count": 11,
   "metadata": {},
   "outputs": [],
   "source": [
    "class ods_userDataGen:\n",
    "    def __init__(self):\n",
    "        self.data_dict = {}\n",
    "    def fake_data(self, a, list_id):\n",
    "        pt_profile = fake.profile()\n",
    "        self.data_dict['c_id'] = list_id[a]\n",
    "        self.data_dict['gender'] = np.random.choice(list_gender)\n",
    "        self.data_dict['user_level'] = np.random.choice(list_user_level)\n",
    "        self.data_dict['certificate'] = np.random.choice(list_certificate) \n",
    "        self.data_dict['nation'] = np.random.choice(list_nation)\n",
    "        self.data_dict['education'] = np.random.choice(list_education)\n",
    "        self.data_dict['population'] = np.random.choice(list_populatioin)\n",
    "        self.data_dict['job_level'] = np.random.choice(list_job_level)\n",
    "        self.data_dict['relationship_type'] = np.random.choice(list_relationship_type)\n",
    "        self.data_dict['marriage']= np.random.choice(list_marriage)\n",
    "        self.data_dict['inline_customer']= random.choice(list_inline_customer)\n",
    "        \n",
    "\n",
    "    def get_data_series(self):\n",
    "        return pd.Series(self.data_dict)\n",
    "\n",
    "    def get_data_dict(self):\n",
    "        return self.data_dict\n",
    "\n",
    "\n",
    "rst_list = []\n",
    "for b in range(len(list_id)):\n",
    "    pt_data = ods_userDataGen()\n",
    "    pt_data.fake_data(b,list_id)\n",
    "    rst_list.append(pt_data.get_data_dict())\n",
    "\n",
    "df = pd.DataFrame(rst_list)"
   ]
  },
  {
   "cell_type": "code",
   "execution_count": 12,
   "metadata": {},
   "outputs": [
    {
     "data": {
      "text/html": [
       "<div>\n",
       "<style scoped>\n",
       "    .dataframe tbody tr th:only-of-type {\n",
       "        vertical-align: middle;\n",
       "    }\n",
       "\n",
       "    .dataframe tbody tr th {\n",
       "        vertical-align: top;\n",
       "    }\n",
       "\n",
       "    .dataframe thead th {\n",
       "        text-align: right;\n",
       "    }\n",
       "</style>\n",
       "<table border=\"1\" class=\"dataframe\">\n",
       "  <thead>\n",
       "    <tr style=\"text-align: right;\">\n",
       "      <th></th>\n",
       "      <th>c_id</th>\n",
       "      <th>gender</th>\n",
       "      <th>user_level</th>\n",
       "      <th>certificate</th>\n",
       "      <th>nation</th>\n",
       "      <th>education</th>\n",
       "      <th>population</th>\n",
       "      <th>job_level</th>\n",
       "      <th>relationship_type</th>\n",
       "      <th>marriage</th>\n",
       "      <th>inline_customer</th>\n",
       "    </tr>\n",
       "  </thead>\n",
       "  <tbody>\n",
       "    <tr>\n",
       "      <th>0</th>\n",
       "      <td>1096</td>\n",
       "      <td>0</td>\n",
       "      <td>2</td>\n",
       "      <td>110025</td>\n",
       "      <td>28</td>\n",
       "      <td>75</td>\n",
       "      <td>52</td>\n",
       "      <td>3</td>\n",
       "      <td>2</td>\n",
       "      <td>0</td>\n",
       "      <td>1</td>\n",
       "    </tr>\n",
       "    <tr>\n",
       "      <th>1</th>\n",
       "      <td>1087</td>\n",
       "      <td>1</td>\n",
       "      <td>3</td>\n",
       "      <td>110013</td>\n",
       "      <td>40</td>\n",
       "      <td>25</td>\n",
       "      <td>203</td>\n",
       "      <td>11</td>\n",
       "      <td>1</td>\n",
       "      <td>4</td>\n",
       "      <td>1</td>\n",
       "    </tr>\n",
       "    <tr>\n",
       "      <th>2</th>\n",
       "      <td>2090</td>\n",
       "      <td>2</td>\n",
       "      <td>0</td>\n",
       "      <td>110001</td>\n",
       "      <td>22</td>\n",
       "      <td>17</td>\n",
       "      <td>11</td>\n",
       "      <td>8</td>\n",
       "      <td>1</td>\n",
       "      <td>1</td>\n",
       "      <td>1</td>\n",
       "    </tr>\n",
       "    <tr>\n",
       "      <th>3</th>\n",
       "      <td>4474</td>\n",
       "      <td>2</td>\n",
       "      <td>5</td>\n",
       "      <td>110020</td>\n",
       "      <td>50</td>\n",
       "      <td>86</td>\n",
       "      <td>26</td>\n",
       "      <td>32</td>\n",
       "      <td>1</td>\n",
       "      <td>4</td>\n",
       "      <td>0</td>\n",
       "    </tr>\n",
       "    <tr>\n",
       "      <th>4</th>\n",
       "      <td>5803</td>\n",
       "      <td>0</td>\n",
       "      <td>1</td>\n",
       "      <td>110023</td>\n",
       "      <td>51</td>\n",
       "      <td>50</td>\n",
       "      <td>6</td>\n",
       "      <td>2</td>\n",
       "      <td>2</td>\n",
       "      <td>2</td>\n",
       "      <td>1</td>\n",
       "    </tr>\n",
       "    <tr>\n",
       "      <th>...</th>\n",
       "      <td>...</td>\n",
       "      <td>...</td>\n",
       "      <td>...</td>\n",
       "      <td>...</td>\n",
       "      <td>...</td>\n",
       "      <td>...</td>\n",
       "      <td>...</td>\n",
       "      <td>...</td>\n",
       "      <td>...</td>\n",
       "      <td>...</td>\n",
       "      <td>...</td>\n",
       "    </tr>\n",
       "    <tr>\n",
       "      <th>9995</th>\n",
       "      <td>2688</td>\n",
       "      <td>2</td>\n",
       "      <td>5</td>\n",
       "      <td>110031</td>\n",
       "      <td>41</td>\n",
       "      <td>74</td>\n",
       "      <td>151</td>\n",
       "      <td>42</td>\n",
       "      <td>0</td>\n",
       "      <td>3</td>\n",
       "      <td>0</td>\n",
       "    </tr>\n",
       "    <tr>\n",
       "      <th>9996</th>\n",
       "      <td>3127</td>\n",
       "      <td>1</td>\n",
       "      <td>0</td>\n",
       "      <td>110033</td>\n",
       "      <td>6</td>\n",
       "      <td>47</td>\n",
       "      <td>198</td>\n",
       "      <td>5</td>\n",
       "      <td>2</td>\n",
       "      <td>0</td>\n",
       "      <td>0</td>\n",
       "    </tr>\n",
       "    <tr>\n",
       "      <th>9997</th>\n",
       "      <td>5289</td>\n",
       "      <td>2</td>\n",
       "      <td>2</td>\n",
       "      <td>110019</td>\n",
       "      <td>17</td>\n",
       "      <td>30</td>\n",
       "      <td>44</td>\n",
       "      <td>2</td>\n",
       "      <td>0</td>\n",
       "      <td>4</td>\n",
       "      <td>0</td>\n",
       "    </tr>\n",
       "    <tr>\n",
       "      <th>9998</th>\n",
       "      <td>7786</td>\n",
       "      <td>2</td>\n",
       "      <td>5</td>\n",
       "      <td>110008</td>\n",
       "      <td>44</td>\n",
       "      <td>2</td>\n",
       "      <td>148</td>\n",
       "      <td>78</td>\n",
       "      <td>1</td>\n",
       "      <td>1</td>\n",
       "      <td>1</td>\n",
       "    </tr>\n",
       "    <tr>\n",
       "      <th>9999</th>\n",
       "      <td>9125</td>\n",
       "      <td>0</td>\n",
       "      <td>2</td>\n",
       "      <td>110023</td>\n",
       "      <td>22</td>\n",
       "      <td>31</td>\n",
       "      <td>6</td>\n",
       "      <td>11</td>\n",
       "      <td>1</td>\n",
       "      <td>4</td>\n",
       "      <td>1</td>\n",
       "    </tr>\n",
       "  </tbody>\n",
       "</table>\n",
       "<p>10000 rows × 11 columns</p>\n",
       "</div>"
      ],
      "text/plain": [
       "      c_id  gender  user_level  certificate  nation  education  population  \\\n",
       "0     1096       0           2       110025      28         75          52   \n",
       "1     1087       1           3       110013      40         25         203   \n",
       "2     2090       2           0       110001      22         17          11   \n",
       "3     4474       2           5       110020      50         86          26   \n",
       "4     5803       0           1       110023      51         50           6   \n",
       "...    ...     ...         ...          ...     ...        ...         ...   \n",
       "9995  2688       2           5       110031      41         74         151   \n",
       "9996  3127       1           0       110033       6         47         198   \n",
       "9997  5289       2           2       110019      17         30          44   \n",
       "9998  7786       2           5       110008      44          2         148   \n",
       "9999  9125       0           2       110023      22         31           6   \n",
       "\n",
       "      job_level  relationship_type  marriage inline_customer  \n",
       "0             3                  2         0               1  \n",
       "1            11                  1         4               1  \n",
       "2             8                  1         1               1  \n",
       "3            32                  1         4               0  \n",
       "4             2                  2         2               1  \n",
       "...         ...                ...       ...             ...  \n",
       "9995         42                  0         3               0  \n",
       "9996          5                  2         0               0  \n",
       "9997          2                  0         4               0  \n",
       "9998         78                  1         1               1  \n",
       "9999         11                  1         4               1  \n",
       "\n",
       "[10000 rows x 11 columns]"
      ]
     },
     "execution_count": 12,
     "metadata": {},
     "output_type": "execute_result"
    }
   ],
   "source": [
    "df"
   ]
  },
  {
   "cell_type": "code",
   "execution_count": 13,
   "metadata": {},
   "outputs": [],
   "source": [
    "sdf_correct = spark.createDataFrame(df)"
   ]
  },
  {
   "cell_type": "code",
   "execution_count": 14,
   "metadata": {},
   "outputs": [
    {
     "data": {
      "text/plain": [
       "DataFrame[c_id: bigint, gender: bigint, user_level: bigint, certificate: bigint, nation: bigint, education: bigint, population: bigint, job_level: bigint, relationship_type: bigint, marriage: bigint, inline_customer: string]"
      ]
     },
     "execution_count": 14,
     "metadata": {},
     "output_type": "execute_result"
    }
   ],
   "source": [
    "sdf_correct"
   ]
  },
  {
   "cell_type": "code",
   "execution_count": 15,
   "metadata": {},
   "outputs": [],
   "source": [
    "sdf_error = sdf_ods_user.drop('gender','user_level','certificate','nation','education',\\\n",
    "                              'population','job_level','relationship_type','marriage','inline_customer')"
   ]
  },
  {
   "cell_type": "code",
   "execution_count": 16,
   "metadata": {},
   "outputs": [
    {
     "data": {
      "text/plain": [
       "DataFrame[bal_date: date, user_id: string, id: bigint, age: int, age_range: int, income_year: float, aum: float, aum_range: int, job: string, birthday: date, fund_bal: float, country: int, account_opening_date: date, ifib_bal: float, sub_branch: string, fa_bal: float, residence: string, second_level_branch: string, account_opening_institution: bigint, place_of_residence: string, load_bal: float, bond_bal: float, first_level_branch: string, deposit: float, postal_code: string, oth_inv_bal: float]"
      ]
     },
     "execution_count": 16,
     "metadata": {},
     "output_type": "execute_result"
    }
   ],
   "source": [
    "sdf_error"
   ]
  },
  {
   "cell_type": "code",
   "execution_count": 17,
   "metadata": {},
   "outputs": [],
   "source": [
    "sdf_ods_user_right = sdf_error.join(sdf_correct,sdf_error.id==sdf_correct.c_id,'inner').drop('c_id')"
   ]
  },
  {
   "cell_type": "code",
   "execution_count": 18,
   "metadata": {},
   "outputs": [
    {
     "data": {
      "text/plain": [
       "10000"
      ]
     },
     "execution_count": 18,
     "metadata": {},
     "output_type": "execute_result"
    }
   ],
   "source": [
    "sdf_ods_user_right.count()"
   ]
  },
  {
   "cell_type": "markdown",
   "metadata": {},
   "source": [
    "- 保存一份ods_user的parquet文件，备份到自己的目录"
   ]
  },
  {
   "cell_type": "code",
   "execution_count": 19,
   "metadata": {},
   "outputs": [],
   "source": [
    "# 将spark.dataframe保存为parquet文件\n",
    "sdf_ods_user.write.parquet(\"/root/data/huzize/ods_user.parquet\",mode='overwrite')\n",
    "\n"
   ]
  },
  {
   "cell_type": "code",
   "execution_count": 21,
   "metadata": {},
   "outputs": [],
   "source": [
    "# 读取parquet文件为spark.dataframe\n",
    "sdf_spark = spark.read.parquet(\"/root/data/huzize/ods_user.parquet\")"
   ]
  },
  {
   "cell_type": "code",
   "execution_count": 22,
   "metadata": {},
   "outputs": [
    {
     "data": {
      "text/plain": [
       "DataFrame[bal_date: date, user_id: string, id: bigint, age: int, age_range: int, gender: int, education: int, income_year: float, aum: float, aum_range: int, job_level: int, job: string, marriage: int, birthday: date, fund_bal: float, country: int, account_opening_date: date, nation: int, certificate: bigint, ifib_bal: float, relationship_type: int, sub_branch: string, fa_bal: float, residence: string, second_level_branch: string, account_opening_institution: bigint, place_of_residence: string, population: int, load_bal: float, inline_customer: string, bond_bal: float, first_level_branch: string, deposit: float, user_level: int, postal_code: string, oth_inv_bal: float]"
      ]
     },
     "execution_count": 22,
     "metadata": {},
     "output_type": "execute_result"
    }
   ],
   "source": [
    "sdf_spark"
   ]
  },
  {
   "cell_type": "markdown",
   "metadata": {},
   "source": [
    "- 清空当前ods_user表的数据，并插入修正后的数据"
   ]
  },
  {
   "cell_type": "code",
   "execution_count": 29,
   "metadata": {},
   "outputs": [],
   "source": [
    "from clickhouse_driver import connect\n",
    "import clickhouse_driver\n",
    "\n",
    "client = clickhouse_driver.Client(host='chi-ftabc-clickhouse-0-0.default.svc.cluster.local', port='9000', database='ftabcch', user='ftabc', password='aihub@2020')\n",
    "conn = connect(host='chi-ftabc-clickhouse-1-0.default.svc.cluster.local', port='9000', database='ftabcch', user='ftabc', password='aihub@2021')\n",
    "cursor = conn.cursor()"
   ]
  },
  {
   "cell_type": "code",
   "execution_count": 30,
   "metadata": {},
   "outputs": [
    {
     "name": "stderr",
     "output_type": "stream",
     "text": [
      "WARNING:clickhouse_driver.connection:Failed to connect to chi-ftabc-clickhouse-1-0.default.svc.cluster.local:9000\n",
      "Traceback (most recent call last):\n",
      "  File \"/usr/local/lib/python3.7/dist-packages/clickhouse_driver/connection.py\", line 303, in connect\n",
      "    return self._init_connection(host, port)\n",
      "  File \"/usr/local/lib/python3.7/dist-packages/clickhouse_driver/connection.py\", line 268, in _init_connection\n",
      "    self.socket = self._create_socket(host, port)\n",
      "  File \"/usr/local/lib/python3.7/dist-packages/clickhouse_driver/connection.py\", line 244, in _create_socket\n",
      "    raise err\n",
      "  File \"/usr/local/lib/python3.7/dist-packages/clickhouse_driver/connection.py\", line 235, in _create_socket\n",
      "    sock.connect(sa)\n",
      "ConnectionRefusedError: [Errno 111] Connection refused\n"
     ]
    },
    {
     "ename": "OperationalError",
     "evalue": "Code: 210. Connection refused (chi-ftabc-clickhouse-1-0.default.svc.cluster.local:9000)",
     "output_type": "error",
     "traceback": [
      "\u001b[0;31m---------------------------------------------------------------------------\u001b[0m",
      "\u001b[0;31mNetworkError\u001b[0m                              Traceback (most recent call last)",
      "\u001b[0;32m/usr/local/lib/python3.7/dist-packages/clickhouse_driver/dbapi/cursor.py\u001b[0m in \u001b[0;36mexecute\u001b[0;34m(self, operation, parameters)\u001b[0m\n\u001b[1;32m    105\u001b[0m                 \u001b[0moperation\u001b[0m\u001b[0;34m,\u001b[0m \u001b[0mparams\u001b[0m\u001b[0;34m=\u001b[0m\u001b[0mparameters\u001b[0m\u001b[0;34m,\u001b[0m \u001b[0mwith_column_types\u001b[0m\u001b[0;34m=\u001b[0m\u001b[0;32mTrue\u001b[0m\u001b[0;34m,\u001b[0m\u001b[0;34m\u001b[0m\u001b[0;34m\u001b[0m\u001b[0m\n\u001b[0;32m--> 106\u001b[0;31m                 \u001b[0;34m**\u001b[0m\u001b[0mexecute_kwargs\u001b[0m\u001b[0;34m\u001b[0m\u001b[0;34m\u001b[0m\u001b[0m\n\u001b[0m\u001b[1;32m    107\u001b[0m             )\n",
      "\u001b[0;32m/usr/local/lib/python3.7/dist-packages/clickhouse_driver/client.py\u001b[0m in \u001b[0;36mexecute\u001b[0;34m(self, query, params, with_column_types, external_tables, query_id, settings, types_check, columnar)\u001b[0m\n\u001b[1;32m    232\u001b[0m         \u001b[0mself\u001b[0m\u001b[0;34m.\u001b[0m\u001b[0mmake_query_settings\u001b[0m\u001b[0;34m(\u001b[0m\u001b[0msettings\u001b[0m\u001b[0;34m)\u001b[0m\u001b[0;34m\u001b[0m\u001b[0;34m\u001b[0m\u001b[0m\n\u001b[0;32m--> 233\u001b[0;31m         \u001b[0mself\u001b[0m\u001b[0;34m.\u001b[0m\u001b[0mconnection\u001b[0m\u001b[0;34m.\u001b[0m\u001b[0mforce_connect\u001b[0m\u001b[0;34m(\u001b[0m\u001b[0;34m)\u001b[0m\u001b[0;34m\u001b[0m\u001b[0;34m\u001b[0m\u001b[0m\n\u001b[0m\u001b[1;32m    234\u001b[0m         \u001b[0mself\u001b[0m\u001b[0;34m.\u001b[0m\u001b[0mlast_query\u001b[0m \u001b[0;34m=\u001b[0m \u001b[0mQueryInfo\u001b[0m\u001b[0;34m(\u001b[0m\u001b[0;34m)\u001b[0m\u001b[0;34m\u001b[0m\u001b[0;34m\u001b[0m\u001b[0m\n",
      "\u001b[0;32m/usr/local/lib/python3.7/dist-packages/clickhouse_driver/connection.py\u001b[0m in \u001b[0;36mforce_connect\u001b[0;34m(self)\u001b[0m\n\u001b[1;32m    201\u001b[0m         \u001b[0;32mif\u001b[0m \u001b[0;32mnot\u001b[0m \u001b[0mself\u001b[0m\u001b[0;34m.\u001b[0m\u001b[0mconnected\u001b[0m\u001b[0;34m:\u001b[0m\u001b[0;34m\u001b[0m\u001b[0;34m\u001b[0m\u001b[0m\n\u001b[0;32m--> 202\u001b[0;31m             \u001b[0mself\u001b[0m\u001b[0;34m.\u001b[0m\u001b[0mconnect\u001b[0m\u001b[0;34m(\u001b[0m\u001b[0;34m)\u001b[0m\u001b[0;34m\u001b[0m\u001b[0;34m\u001b[0m\u001b[0m\n\u001b[0m\u001b[1;32m    203\u001b[0m \u001b[0;34m\u001b[0m\u001b[0m\n",
      "\u001b[0;32m/usr/local/lib/python3.7/dist-packages/clickhouse_driver/connection.py\u001b[0m in \u001b[0;36mconnect\u001b[0;34m(self)\u001b[0m\n\u001b[1;32m    323\u001b[0m         \u001b[0;32mif\u001b[0m \u001b[0merr\u001b[0m \u001b[0;32mis\u001b[0m \u001b[0;32mnot\u001b[0m \u001b[0;32mNone\u001b[0m\u001b[0;34m:\u001b[0m\u001b[0;34m\u001b[0m\u001b[0;34m\u001b[0m\u001b[0m\n\u001b[0;32m--> 324\u001b[0;31m             \u001b[0;32mraise\u001b[0m \u001b[0merr\u001b[0m\u001b[0;34m\u001b[0m\u001b[0;34m\u001b[0m\u001b[0m\n\u001b[0m\u001b[1;32m    325\u001b[0m \u001b[0;34m\u001b[0m\u001b[0m\n",
      "\u001b[0;31mNetworkError\u001b[0m: Code: 210. Connection refused (chi-ftabc-clickhouse-1-0.default.svc.cluster.local:9000)",
      "\nDuring handling of the above exception, another exception occurred:\n",
      "\u001b[0;31mOperationalError\u001b[0m                          Traceback (most recent call last)",
      "\u001b[0;32m<ipython-input-30-2e291f79ea8f>\u001b[0m in \u001b[0;36m<module>\u001b[0;34m\u001b[0m\n\u001b[1;32m      5\u001b[0m     \u001b[0mselect\u001b[0m\u001b[0;34m\u001b[0m\u001b[0;34m\u001b[0m\u001b[0m\n\u001b[1;32m      6\u001b[0m         \u001b[0;34m'{}'\u001b[0m\u001b[0;34m\u001b[0m\u001b[0;34m\u001b[0m\u001b[0m\n\u001b[0;32m----> 7\u001b[0;31m '''.format('123'))\n\u001b[0m\u001b[1;32m      8\u001b[0m \u001b[0mthis_two_month\u001b[0m \u001b[0;34m=\u001b[0m \u001b[0mcursor\u001b[0m\u001b[0;34m.\u001b[0m\u001b[0mfetchall\u001b[0m\u001b[0;34m(\u001b[0m\u001b[0;34m)\u001b[0m\u001b[0;34m\u001b[0m\u001b[0;34m\u001b[0m\u001b[0m\n\u001b[1;32m      9\u001b[0m \u001b[0mprint\u001b[0m\u001b[0;34m(\u001b[0m\u001b[0mthis_two_month\u001b[0m\u001b[0;34m)\u001b[0m\u001b[0;34m\u001b[0m\u001b[0;34m\u001b[0m\u001b[0m\n",
      "\u001b[0;32m/usr/local/lib/python3.7/dist-packages/clickhouse_driver/dbapi/cursor.py\u001b[0m in \u001b[0;36mexecute\u001b[0;34m(self, operation, parameters)\u001b[0m\n\u001b[1;32m    108\u001b[0m \u001b[0;34m\u001b[0m\u001b[0m\n\u001b[1;32m    109\u001b[0m         \u001b[0;32mexcept\u001b[0m \u001b[0mDriverError\u001b[0m \u001b[0;32mas\u001b[0m \u001b[0morig\u001b[0m\u001b[0;34m:\u001b[0m\u001b[0;34m\u001b[0m\u001b[0;34m\u001b[0m\u001b[0m\n\u001b[0;32m--> 110\u001b[0;31m             \u001b[0;32mraise\u001b[0m \u001b[0mOperationalError\u001b[0m\u001b[0;34m(\u001b[0m\u001b[0morig\u001b[0m\u001b[0;34m)\u001b[0m\u001b[0;34m\u001b[0m\u001b[0;34m\u001b[0m\u001b[0m\n\u001b[0m\u001b[1;32m    111\u001b[0m \u001b[0;34m\u001b[0m\u001b[0m\n\u001b[1;32m    112\u001b[0m         \u001b[0mself\u001b[0m\u001b[0;34m.\u001b[0m\u001b[0m_process_response\u001b[0m\u001b[0;34m(\u001b[0m\u001b[0mresponse\u001b[0m\u001b[0;34m)\u001b[0m\u001b[0;34m\u001b[0m\u001b[0;34m\u001b[0m\u001b[0m\n",
      "\u001b[0;31mOperationalError\u001b[0m: Code: 210. Connection refused (chi-ftabc-clickhouse-1-0.default.svc.cluster.local:9000)"
     ]
    }
   ],
   "source": [
    "# 清空当前clickhouse的ods_user表的数据\n",
    "# cursor.execute('alter table ods_user on cluster \"clickhouse\" delete where id is not null')\n",
    "# cursor.fetchall()\n",
    "cursor.execute('''\n",
    "    select \n",
    "        '{}'\n",
    "'''.format('123'))\n",
    "this_two_month = cursor.fetchall()\n",
    "print(this_two_month)"
   ]
  },
  {
   "cell_type": "markdown",
   "metadata": {},
   "source": [
    "- 插入修改后的数据"
   ]
  },
  {
   "cell_type": "code",
   "execution_count": 95,
   "metadata": {},
   "outputs": [],
   "source": [
    "ods_user1,ods_user2,ods_user3,ods_user4 = sdf_ods_user_right.randomSplit([0.25,0.25,0.25,0.25])"
   ]
  },
  {
   "cell_type": "code",
   "execution_count": 98,
   "metadata": {},
   "outputs": [
    {
     "name": "stdout",
     "output_type": "stream",
     "text": [
      "分片0插入数据成功\n",
      "分片1插入数据成功\n",
      "分片2插入数据成功\n",
      "分片3插入数据成功\n"
     ]
    }
   ],
   "source": [
    "write_data_toClickHouse(ods_user1,0,\"ftabcch.ods_user\")\n",
    "write_data_toClickHouse(ods_user2,1,\"ftabcch.ods_user\")\n",
    "write_data_toClickHouse(ods_user3,2,\"ftabcch.ods_user\")\n",
    "write_data_toClickHouse(ods_user4,3,\"ftabcch.ods_user\")"
   ]
  },
  {
   "cell_type": "markdown",
   "metadata": {},
   "source": [
    "- 保存一份到根目录"
   ]
  },
  {
   "cell_type": "code",
   "execution_count": 100,
   "metadata": {},
   "outputs": [],
   "source": [
    "sdf_ods_user_right.write.parquet(\"/root/data/ods_user.parquet\",mode='overwrite')"
   ]
  },
  {
   "cell_type": "code",
   "execution_count": 101,
   "metadata": {},
   "outputs": [],
   "source": [
    "spark.stop()"
   ]
  },
  {
   "cell_type": "code",
   "execution_count": null,
   "metadata": {},
   "outputs": [],
   "source": []
  },
  {
   "cell_type": "code",
   "execution_count": null,
   "metadata": {},
   "outputs": [],
   "source": []
  },
  {
   "cell_type": "code",
   "execution_count": null,
   "metadata": {},
   "outputs": [],
   "source": []
  },
  {
   "cell_type": "code",
   "execution_count": null,
   "metadata": {},
   "outputs": [],
   "source": []
  },
  {
   "cell_type": "code",
   "execution_count": null,
   "metadata": {},
   "outputs": [],
   "source": []
  },
  {
   "cell_type": "code",
   "execution_count": null,
   "metadata": {},
   "outputs": [],
   "source": []
  },
  {
   "cell_type": "code",
   "execution_count": null,
   "metadata": {},
   "outputs": [],
   "source": []
  },
  {
   "cell_type": "code",
   "execution_count": null,
   "metadata": {},
   "outputs": [],
   "source": []
  }
 ],
 "metadata": {
  "kernelspec": {
   "display_name": "Python 3",
   "language": "python",
   "name": "python3"
  },
  "language_info": {
   "codemirror_mode": {
    "name": "ipython",
    "version": 3
   },
   "file_extension": ".py",
   "mimetype": "text/x-python",
   "name": "python",
   "nbconvert_exporter": "python",
   "pygments_lexer": "ipython3",
   "version": "3.7.5"
  }
 },
 "nbformat": 4,
 "nbformat_minor": 4
}
