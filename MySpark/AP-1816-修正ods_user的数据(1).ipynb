{
 "cells": [
  {
   "cell_type": "code",
   "execution_count": 5,
   "metadata": {},
   "outputs": [
    {
     "data": {
      "text/html": [
       "\n",
       "            <div>\n",
       "                <p><b>SparkSession - in-memory</b></p>\n",
       "                \n",
       "        <div>\n",
       "            <p><b>SparkContext</b></p>\n",
       "\n",
       "            <p><a href=\"http://172.20.2.140:4040\">Spark UI</a></p>\n",
       "\n",
       "            <dl>\n",
       "              <dt>Version</dt>\n",
       "                <dd><code>v3.0.1</code></dd>\n",
       "              <dt>Master</dt>\n",
       "                <dd><code>k8s://https://kubernetes.default.svc.cluster.local:443</code></dd>\n",
       "              <dt>AppName</dt>\n",
       "                <dd><code>huzize-AP1816</code></dd>\n",
       "            </dl>\n",
       "        </div>\n",
       "        \n",
       "            </div>\n",
       "        "
      ],
      "text/plain": [
       "<pyspark.sql.session.SparkSession at 0x7f59dee648d0>"
      ]
     },
     "execution_count": 5,
     "metadata": {},
     "output_type": "execute_result"
    }
   ],
   "source": [
    "import os\n",
    "import socket\n",
    "from datetime import date,datetime,timedelta\n",
    "import time\n",
    "from pyspark import SparkContext, SparkConf\n",
    "from pyspark.sql import SparkSession\n",
    "from pyspark.sql.types import *\n",
    "import pyspark.sql.functions as F\n",
    "\n",
    "# 设置pyspark 提交job的环境变量\n",
    "os.environ['PYSPARK_SUBMIT_ARGS'] = '--jars /root/data/xgboost4j_3.0-1.0.0-0.1.0.jar,/root/data/xgboost4j-spark_3.0-1.0.0-0.1.0.jar,/root/data/clickhouse-native-jdbc-2.2-stable.jar,/root/data/clickhouse4j-1.4.4.jar,/root/data/joda-time-2.9.9.jar pyspark-shell'\n",
    "\n",
    "# Create Spark config for our Kubernetes based cluster manager\n",
    "sparkConf = SparkConf()\n",
    "#### K8s调度 配置参数\n",
    "sparkConf.setMaster(\"k8s://https://kubernetes.default.svc.cluster.local:443\")\n",
    "sparkConf.set(\"spark.kubernetes.container.image\", \"harbor.aift.ftwhale.com/library/spark/pyspark:v3.0.0-aift\")\n",
    "sparkConf.set(\"spark.kubernetes.container.image.pullPolicy\", \"Always\")\n",
    "sparkConf.set(\"spark.kubernetes.namespace\", \"default\")\n",
    "sparkConf.set(\"spark.kubernetes.authenticate.driver.serviceAccountName\", \"spark\")\n",
    "sparkConf.set(\"spark.kubernetes.authenticate.serviceAccountName\", \"spark\")\n",
    "sparkConf.set(\"spark.kubernetes.pyspark.pythonVersion\", \"3\")\n",
    "#### 配置executor的volume挂载\n",
    "sparkConf.set(\"spark.kubernetes.executor.volumes.persistentVolumeClaim.heketi-jupyter-pvc.mount.path\",\"/root/data\")\n",
    "sparkConf.set(\"spark.kubernetes.executor.volumes.persistentVolumeClaim.heketi-jupyter-pvc.readOnly\",\"false\")\n",
    "sparkConf.set(\"spark.kubernetes.executor.volumes.persistentVolumeClaim.heketi-jupyter-pvc.options.claimName\",\"heketi-jupyter-pvc\")\n",
    "\n",
    "#### spark driver 配置\n",
    "sparkConf.set(\"spark.driver.host\", \"172.20.2.140\") # 区别于其他人的jupyter（jupyter的域名） 必改！\n",
    "sparkConf.set(\"spark.driver.port\", \"29413\")\n",
    "sparkConf.set(\"spark.driver.extraClassPath\", \"/root/data/xgboost4j_3.0-1.0.0-0.1.0.jar:/root/data/xgboost4j-spark_3.0-1.0.0-0.1.0.jar\")\n",
    "sparkConf.set(\"spark.driver.memory\", \"4g\")\n",
    "sparkConf.set(\"spark.driver.cores\", \"1\")\n",
    "#### spark driver 调优\n",
    "sparkConf.set(\"spark.driver.allowMultipleContexts\", \"true\")\n",
    "sparkConf.set(\"spark.driver.maxResultSize\", \"3g\")                 #低于其他两个\n",
    "\n",
    "#### spark executor 配置\n",
    "sparkConf.set(\"spark.executor.extraClassPath\", \"/root/data/xgboost4j_3.0-1.0.0-0.1.0.jar:/root/data/xgboost4j-spark_3.0-1.0.0-0.1.0.jar\")\n",
    "sparkConf.set(\"spark.executor.instances\", \"2\") # 时间计算实例的数量\n",
    "sparkConf.set(\"spark.executor.cores\", \"1\") # 每个计算实例的cpu\n",
    "sparkConf.set(\"spark.executor.memory\", \"4g\") # 每个计算实例的内存\n",
    "#### spark executor 调优\n",
    "\n",
    "\n",
    "#### spark tasks 调优\n",
    "sparkConf.set(\"spark.task.cpus\", 1)\n",
    "sparkConf.setAppName(\"huzize-AP1816\") # 区别于其他人提交任务的名称 必改！\n",
    "\n",
    "#### spark sql 配置\n",
    "sparkConf.set(\"spark.sql.execution.arrow.pyspark.enabled\", \"true\")\n",
    "sparkConf.set(\"spark.sql.inMemoryColumnarStorage.batchSize\",50000)\n",
    "sparkConf.set(\"spark.sql.autoBroadcastJoinThreshold\", 1024*1024*512)\n",
    "sparkConf.set(\"spark.sql.shuffle.partitions\", 100)\n",
    "sparkConf.set(\"spark.sql.parquet.columnarReaderBatchSize\", 5000000)\n",
    "sparkConf.set(\"spark.sql.files.maxPartitionBytes\", 1024*1024*512)\n",
    "sparkConf.set(\"spark.sql.broadcastTimeout\", 10*60*1000)\n",
    "sparkConf.set(\"spark.sql.adaptive.enabled\", \"true\")\n",
    "\n",
    "#### spark 其他配置参数\n",
    "sparkConf.set(\"spark.rpc.message.maxSize\", 2040)\n",
    "# sparkConf.set(\"spark.submit.pyFiles\", \"/root/data/samples.zip,/root/data/xgboost4j-spark_3.0-1.0.0-0.1.0.jar\")\n",
    "\n",
    "# Initialize our Spark cluster, this will actually\n",
    "# generate the worker nodes.\n",
    "spark = SparkSession.builder.config(conf=sparkConf).getOrCreate()\n",
    "spark"
   ]
  },
  {
   "cell_type": "code",
   "execution_count": 6,
   "metadata": {},
   "outputs": [],
   "source": [
    "def write_data_toClickHouse(target_sdf,i,table):\n",
    "    try:\n",
    "        target_sdf.write.mode(\"append\").format(\"jdbc\") \\\n",
    "            .option(\"driver\", \"com.github.housepower.jdbc.ClickHouseDriver\") \\\n",
    "            .option(\"url\", \"jdbc:clickhouse://chi-ftabc-clickhouse-{}-0.default.svc.cluster.local:9000\".format(i)) \\\n",
    "            .option(\"dbtable\", table) \\\n",
    "            .option(\"batchsize\",target_sdf.count())\\\n",
    "            .option(\"user\", \"ftabc\") \\\n",
    "            .option(\"password\", \"aihub@2020\") \\\n",
    "            .option(\"numPartitions\", \"1\") \\\n",
    "            .option(\"isolationLevel\", \"NONE\") \\\n",
    "            .option(\"truncate\", \"true\") \\\n",
    "            .save()\n",
    "    except Exception as e:\n",
    "        message = str(e).split('\\n')[1]\n",
    "        ignore_message = ': java.sql.SQLFeatureNotSupportedException'\n",
    "        if(message == ignore_message):\n",
    "            print('分片'+str(i)+'插入数据成功')\n",
    "        else:\n",
    "            print('分片'+str(i)+'插入数据不成功')\n",
    "    else:\n",
    "        print('分片'+str(i)+'已成功插入数据')"
   ]
  },
  {
   "cell_type": "code",
   "execution_count": 7,
   "metadata": {},
   "outputs": [],
   "source": [
    "def read_data_ClickHouse(sdf_name,i,dbtable):\n",
    "    sdf_name = spark.read.format(\"jdbc\") \\\n",
    "            .option(\"driver\", \"cc.blynk.clickhouse.ClickHouseDriver\") \\\n",
    "            .option(\"url\", \"jdbc:clickhouse://chi-ftabc-clickhouse-{}-0.default.svc.cluster.local:8123\".format(i)) \\\n",
    "            .option(\"dbtable\", dbtable) \\\n",
    "            .option(\"user\", \"ftabc\") \\\n",
    "            .option(\"password\", \"aihub@2020\") \\\n",
    "            .load()\n",
    "    return sdf_name"
   ]
  },
  {
   "cell_type": "markdown",
   "metadata": {},
   "source": [
    "----"
   ]
  },
  {
   "cell_type": "markdown",
   "metadata": {},
   "source": [
    "- 得到ods_user表的id列表"
   ]
  },
  {
   "cell_type": "code",
   "execution_count": 8,
   "metadata": {},
   "outputs": [
    {
     "ename": "Py4JJavaError",
     "evalue": "An error occurred while calling o306.parquet.\n: org.apache.spark.SparkException: Job aborted due to stage failure: Task 0 in stage 1.0 failed 4 times, most recent failure: Lost task 0.3 in stage 1.0 (TID 7, 172.20.1.18, executor 1): java.io.InvalidClassException: org.apache.spark.sql.execution.datasources.parquet.ParquetFileFormat$; local class incompatible: stream classdesc serialVersionUID = -187663704353307685, local class serialVersionUID = -3825936903196668049\n\tat java.io.ObjectStreamClass.initNonProxy(ObjectStreamClass.java:699)\n\tat java.io.ObjectInputStream.readNonProxyDesc(ObjectInputStream.java:1964)\n\tat java.io.ObjectInputStream.readClassDesc(ObjectInputStream.java:1830)\n\tat java.io.ObjectInputStream.readClass(ObjectInputStream.java:1793)\n\tat java.io.ObjectInputStream.readObject0(ObjectInputStream.java:1618)\n\tat java.io.ObjectInputStream.defaultReadFields(ObjectInputStream.java:2366)\n\tat java.io.ObjectInputStream.readSerialData(ObjectInputStream.java:2290)\n\tat java.io.ObjectInputStream.readOrdinaryObject(ObjectInputStream.java:2148)\n\tat java.io.ObjectInputStream.readObject0(ObjectInputStream.java:1647)\n\tat java.io.ObjectInputStream.readArray(ObjectInputStream.java:2054)\n\tat java.io.ObjectInputStream.readObject0(ObjectInputStream.java:1635)\n\tat java.io.ObjectInputStream.defaultReadFields(ObjectInputStream.java:2366)\n\tat java.io.ObjectInputStream.readSerialData(ObjectInputStream.java:2290)\n\tat java.io.ObjectInputStream.readOrdinaryObject(ObjectInputStream.java:2148)\n\tat java.io.ObjectInputStream.readObject0(ObjectInputStream.java:1647)\n\tat java.io.ObjectInputStream.readArray(ObjectInputStream.java:2054)\n\tat java.io.ObjectInputStream.readObject0(ObjectInputStream.java:1635)\n\tat java.io.ObjectInputStream.defaultReadFields(ObjectInputStream.java:2366)\n\tat java.io.ObjectInputStream.readSerialData(ObjectInputStream.java:2290)\n\tat java.io.ObjectInputStream.readOrdinaryObject(ObjectInputStream.java:2148)\n\tat java.io.ObjectInputStream.readObject0(ObjectInputStream.java:1647)\n\tat java.io.ObjectInputStream.defaultReadFields(ObjectInputStream.java:2366)\n\tat java.io.ObjectInputStream.readSerialData(ObjectInputStream.java:2290)\n\tat java.io.ObjectInputStream.readOrdinaryObject(ObjectInputStream.java:2148)\n\tat java.io.ObjectInputStream.readObject0(ObjectInputStream.java:1647)\n\tat java.io.ObjectInputStream.defaultReadFields(ObjectInputStream.java:2366)\n\tat java.io.ObjectInputStream.readSerialData(ObjectInputStream.java:2290)\n\tat java.io.ObjectInputStream.readOrdinaryObject(ObjectInputStream.java:2148)\n\tat java.io.ObjectInputStream.readObject0(ObjectInputStream.java:1647)\n\tat java.io.ObjectInputStream.readObject(ObjectInputStream.java:483)\n\tat java.io.ObjectInputStream.readObject(ObjectInputStream.java:441)\n\tat org.apache.spark.serializer.JavaDeserializationStream.readObject(JavaSerializer.scala:76)\n\tat org.apache.spark.serializer.JavaSerializerInstance.deserialize(JavaSerializer.scala:115)\n\tat org.apache.spark.scheduler.ResultTask.runTask(ResultTask.scala:83)\n\tat org.apache.spark.scheduler.Task.run(Task.scala:127)\n\tat org.apache.spark.executor.Executor$TaskRunner.$anonfun$run$3(Executor.scala:444)\n\tat org.apache.spark.util.Utils$.tryWithSafeFinally(Utils.scala:1377)\n\tat org.apache.spark.executor.Executor$TaskRunner.run(Executor.scala:447)\n\tat java.util.concurrent.ThreadPoolExecutor.runWorker(ThreadPoolExecutor.java:1149)\n\tat java.util.concurrent.ThreadPoolExecutor$Worker.run(ThreadPoolExecutor.java:624)\n\tat java.lang.Thread.run(Thread.java:748)\n\nDriver stacktrace:\n\tat org.apache.spark.scheduler.DAGScheduler.failJobAndIndependentStages(DAGScheduler.scala:2059)\n\tat org.apache.spark.scheduler.DAGScheduler.$anonfun$abortStage$2(DAGScheduler.scala:2008)\n\tat org.apache.spark.scheduler.DAGScheduler.$anonfun$abortStage$2$adapted(DAGScheduler.scala:2007)\n\tat scala.collection.mutable.ResizableArray.foreach(ResizableArray.scala:62)\n\tat scala.collection.mutable.ResizableArray.foreach$(ResizableArray.scala:55)\n\tat scala.collection.mutable.ArrayBuffer.foreach(ArrayBuffer.scala:49)\n\tat org.apache.spark.scheduler.DAGScheduler.abortStage(DAGScheduler.scala:2007)\n\tat org.apache.spark.scheduler.DAGScheduler.$anonfun$handleTaskSetFailed$1(DAGScheduler.scala:973)\n\tat org.apache.spark.scheduler.DAGScheduler.$anonfun$handleTaskSetFailed$1$adapted(DAGScheduler.scala:973)\n\tat scala.Option.foreach(Option.scala:407)\n\tat org.apache.spark.scheduler.DAGScheduler.handleTaskSetFailed(DAGScheduler.scala:973)\n\tat org.apache.spark.scheduler.DAGSchedulerEventProcessLoop.doOnReceive(DAGScheduler.scala:2239)\n\tat org.apache.spark.scheduler.DAGSchedulerEventProcessLoop.onReceive(DAGScheduler.scala:2188)\n\tat org.apache.spark.scheduler.DAGSchedulerEventProcessLoop.onReceive(DAGScheduler.scala:2177)\n\tat org.apache.spark.util.EventLoop$$anon$1.run(EventLoop.scala:49)\n\tat org.apache.spark.scheduler.DAGScheduler.runJob(DAGScheduler.scala:775)\n\tat org.apache.spark.SparkContext.runJob(SparkContext.scala:2099)\n\tat org.apache.spark.SparkContext.runJob(SparkContext.scala:2120)\n\tat org.apache.spark.SparkContext.runJob(SparkContext.scala:2139)\n\tat org.apache.spark.SparkContext.runJob(SparkContext.scala:2164)\n\tat org.apache.spark.rdd.RDD.$anonfun$collect$1(RDD.scala:1004)\n\tat org.apache.spark.rdd.RDDOperationScope$.withScope(RDDOperationScope.scala:151)\n\tat org.apache.spark.rdd.RDDOperationScope$.withScope(RDDOperationScope.scala:112)\n\tat org.apache.spark.rdd.RDD.withScope(RDD.scala:388)\n\tat org.apache.spark.rdd.RDD.collect(RDD.scala:1003)\n\tat org.apache.spark.sql.execution.datasources.SchemaMergeUtils$.mergeSchemasInParallel(SchemaMergeUtils.scala:69)\n\tat org.apache.spark.sql.execution.datasources.parquet.ParquetFileFormat$.mergeSchemasInParallel(ParquetFileFormat.scala:494)\n\tat org.apache.spark.sql.execution.datasources.parquet.ParquetUtils$.inferSchema(ParquetUtils.scala:107)\n\tat org.apache.spark.sql.execution.datasources.parquet.ParquetFileFormat.inferSchema(ParquetFileFormat.scala:163)\n\tat org.apache.spark.sql.execution.datasources.DataSource.$anonfun$getOrInferFileFormatSchema$11(DataSource.scala:198)\n\tat scala.Option.orElse(Option.scala:447)\n\tat org.apache.spark.sql.execution.datasources.DataSource.getOrInferFileFormatSchema(DataSource.scala:195)\n\tat org.apache.spark.sql.execution.datasources.DataSource.resolveRelation(DataSource.scala:408)\n\tat org.apache.spark.sql.DataFrameReader.loadV1Source(DataFrameReader.scala:297)\n\tat org.apache.spark.sql.DataFrameReader.$anonfun$load$2(DataFrameReader.scala:286)\n\tat scala.Option.getOrElse(Option.scala:189)\n\tat org.apache.spark.sql.DataFrameReader.load(DataFrameReader.scala:286)\n\tat org.apache.spark.sql.DataFrameReader.parquet(DataFrameReader.scala:755)\n\tat sun.reflect.NativeMethodAccessorImpl.invoke0(Native Method)\n\tat sun.reflect.NativeMethodAccessorImpl.invoke(NativeMethodAccessorImpl.java:62)\n\tat sun.reflect.DelegatingMethodAccessorImpl.invoke(DelegatingMethodAccessorImpl.java:43)\n\tat java.lang.reflect.Method.invoke(Method.java:498)\n\tat py4j.reflection.MethodInvoker.invoke(MethodInvoker.java:244)\n\tat py4j.reflection.ReflectionEngine.invoke(ReflectionEngine.java:357)\n\tat py4j.Gateway.invoke(Gateway.java:282)\n\tat py4j.commands.AbstractCommand.invokeMethod(AbstractCommand.java:132)\n\tat py4j.commands.CallCommand.execute(CallCommand.java:79)\n\tat py4j.GatewayConnection.run(GatewayConnection.java:238)\n\tat java.lang.Thread.run(Thread.java:748)\nCaused by: java.io.InvalidClassException: org.apache.spark.sql.execution.datasources.parquet.ParquetFileFormat$; local class incompatible: stream classdesc serialVersionUID = -187663704353307685, local class serialVersionUID = -3825936903196668049\n\tat java.io.ObjectStreamClass.initNonProxy(ObjectStreamClass.java:699)\n\tat java.io.ObjectInputStream.readNonProxyDesc(ObjectInputStream.java:1964)\n\tat java.io.ObjectInputStream.readClassDesc(ObjectInputStream.java:1830)\n\tat java.io.ObjectInputStream.readClass(ObjectInputStream.java:1793)\n\tat java.io.ObjectInputStream.readObject0(ObjectInputStream.java:1618)\n\tat java.io.ObjectInputStream.defaultReadFields(ObjectInputStream.java:2366)\n\tat java.io.ObjectInputStream.readSerialData(ObjectInputStream.java:2290)\n\tat java.io.ObjectInputStream.readOrdinaryObject(ObjectInputStream.java:2148)\n\tat java.io.ObjectInputStream.readObject0(ObjectInputStream.java:1647)\n\tat java.io.ObjectInputStream.readArray(ObjectInputStream.java:2054)\n\tat java.io.ObjectInputStream.readObject0(ObjectInputStream.java:1635)\n\tat java.io.ObjectInputStream.defaultReadFields(ObjectInputStream.java:2366)\n\tat java.io.ObjectInputStream.readSerialData(ObjectInputStream.java:2290)\n\tat java.io.ObjectInputStream.readOrdinaryObject(ObjectInputStream.java:2148)\n\tat java.io.ObjectInputStream.readObject0(ObjectInputStream.java:1647)\n\tat java.io.ObjectInputStream.readArray(ObjectInputStream.java:2054)\n\tat java.io.ObjectInputStream.readObject0(ObjectInputStream.java:1635)\n\tat java.io.ObjectInputStream.defaultReadFields(ObjectInputStream.java:2366)\n\tat java.io.ObjectInputStream.readSerialData(ObjectInputStream.java:2290)\n\tat java.io.ObjectInputStream.readOrdinaryObject(ObjectInputStream.java:2148)\n\tat java.io.ObjectInputStream.readObject0(ObjectInputStream.java:1647)\n\tat java.io.ObjectInputStream.defaultReadFields(ObjectInputStream.java:2366)\n\tat java.io.ObjectInputStream.readSerialData(ObjectInputStream.java:2290)\n\tat java.io.ObjectInputStream.readOrdinaryObject(ObjectInputStream.java:2148)\n\tat java.io.ObjectInputStream.readObject0(ObjectInputStream.java:1647)\n\tat java.io.ObjectInputStream.defaultReadFields(ObjectInputStream.java:2366)\n\tat java.io.ObjectInputStream.readSerialData(ObjectInputStream.java:2290)\n\tat java.io.ObjectInputStream.readOrdinaryObject(ObjectInputStream.java:2148)\n\tat java.io.ObjectInputStream.readObject0(ObjectInputStream.java:1647)\n\tat java.io.ObjectInputStream.readObject(ObjectInputStream.java:483)\n\tat java.io.ObjectInputStream.readObject(ObjectInputStream.java:441)\n\tat org.apache.spark.serializer.JavaDeserializationStream.readObject(JavaSerializer.scala:76)\n\tat org.apache.spark.serializer.JavaSerializerInstance.deserialize(JavaSerializer.scala:115)\n\tat org.apache.spark.scheduler.ResultTask.runTask(ResultTask.scala:83)\n\tat org.apache.spark.scheduler.Task.run(Task.scala:127)\n\tat org.apache.spark.executor.Executor$TaskRunner.$anonfun$run$3(Executor.scala:444)\n\tat org.apache.spark.util.Utils$.tryWithSafeFinally(Utils.scala:1377)\n\tat org.apache.spark.executor.Executor$TaskRunner.run(Executor.scala:447)\n\tat java.util.concurrent.ThreadPoolExecutor.runWorker(ThreadPoolExecutor.java:1149)\n\tat java.util.concurrent.ThreadPoolExecutor$Worker.run(ThreadPoolExecutor.java:624)\n\t... 1 more\n",
     "output_type": "error",
     "traceback": [
      "\u001b[0;31m---------------------------------------------------------------------------\u001b[0m",
      "\u001b[0;31mPy4JJavaError\u001b[0m                             Traceback (most recent call last)",
      "\u001b[0;32m<ipython-input-8-e2aa378d4c3d>\u001b[0m in \u001b[0;36m<module>\u001b[0;34m\u001b[0m\n\u001b[0;32m----> 1\u001b[0;31m \u001b[0msdf_ods_user\u001b[0m \u001b[0;34m=\u001b[0m \u001b[0mspark\u001b[0m\u001b[0;34m.\u001b[0m\u001b[0mread\u001b[0m\u001b[0;34m.\u001b[0m\u001b[0mparquet\u001b[0m\u001b[0;34m(\u001b[0m\u001b[0;34m\"/root/data/guiyang.yang/YGY/ClickHouse/data/ods_user.parquet\"\u001b[0m\u001b[0;34m)\u001b[0m\u001b[0;34m\u001b[0m\u001b[0;34m\u001b[0m\u001b[0m\n\u001b[0m",
      "\u001b[0;32m/usr/local/spark/python/pyspark/sql/readwriter.py\u001b[0m in \u001b[0;36mparquet\u001b[0;34m(self, *paths, **options)\u001b[0m\n\u001b[1;32m    351\u001b[0m         self._set_opts(mergeSchema=mergeSchema, pathGlobFilter=pathGlobFilter,\n\u001b[1;32m    352\u001b[0m                        recursiveFileLookup=recursiveFileLookup)\n\u001b[0;32m--> 353\u001b[0;31m         \u001b[0;32mreturn\u001b[0m \u001b[0mself\u001b[0m\u001b[0;34m.\u001b[0m\u001b[0m_df\u001b[0m\u001b[0;34m(\u001b[0m\u001b[0mself\u001b[0m\u001b[0;34m.\u001b[0m\u001b[0m_jreader\u001b[0m\u001b[0;34m.\u001b[0m\u001b[0mparquet\u001b[0m\u001b[0;34m(\u001b[0m\u001b[0m_to_seq\u001b[0m\u001b[0;34m(\u001b[0m\u001b[0mself\u001b[0m\u001b[0;34m.\u001b[0m\u001b[0m_spark\u001b[0m\u001b[0;34m.\u001b[0m\u001b[0m_sc\u001b[0m\u001b[0;34m,\u001b[0m \u001b[0mpaths\u001b[0m\u001b[0;34m)\u001b[0m\u001b[0;34m)\u001b[0m\u001b[0;34m)\u001b[0m\u001b[0;34m\u001b[0m\u001b[0;34m\u001b[0m\u001b[0m\n\u001b[0m\u001b[1;32m    354\u001b[0m \u001b[0;34m\u001b[0m\u001b[0m\n\u001b[1;32m    355\u001b[0m     \u001b[0;34m@\u001b[0m\u001b[0mignore_unicode_prefix\u001b[0m\u001b[0;34m\u001b[0m\u001b[0;34m\u001b[0m\u001b[0m\n",
      "\u001b[0;32m/usr/local/lib/python3.7/dist-packages/py4j/java_gateway.py\u001b[0m in \u001b[0;36m__call__\u001b[0;34m(self, *args)\u001b[0m\n\u001b[1;32m   1303\u001b[0m         \u001b[0manswer\u001b[0m \u001b[0;34m=\u001b[0m \u001b[0mself\u001b[0m\u001b[0;34m.\u001b[0m\u001b[0mgateway_client\u001b[0m\u001b[0;34m.\u001b[0m\u001b[0msend_command\u001b[0m\u001b[0;34m(\u001b[0m\u001b[0mcommand\u001b[0m\u001b[0;34m)\u001b[0m\u001b[0;34m\u001b[0m\u001b[0;34m\u001b[0m\u001b[0m\n\u001b[1;32m   1304\u001b[0m         return_value = get_return_value(\n\u001b[0;32m-> 1305\u001b[0;31m             answer, self.gateway_client, self.target_id, self.name)\n\u001b[0m\u001b[1;32m   1306\u001b[0m \u001b[0;34m\u001b[0m\u001b[0m\n\u001b[1;32m   1307\u001b[0m         \u001b[0;32mfor\u001b[0m \u001b[0mtemp_arg\u001b[0m \u001b[0;32min\u001b[0m \u001b[0mtemp_args\u001b[0m\u001b[0;34m:\u001b[0m\u001b[0;34m\u001b[0m\u001b[0;34m\u001b[0m\u001b[0m\n",
      "\u001b[0;32m/usr/local/spark/python/pyspark/sql/utils.py\u001b[0m in \u001b[0;36mdeco\u001b[0;34m(*a, **kw)\u001b[0m\n\u001b[1;32m    126\u001b[0m     \u001b[0;32mdef\u001b[0m \u001b[0mdeco\u001b[0m\u001b[0;34m(\u001b[0m\u001b[0;34m*\u001b[0m\u001b[0ma\u001b[0m\u001b[0;34m,\u001b[0m \u001b[0;34m**\u001b[0m\u001b[0mkw\u001b[0m\u001b[0;34m)\u001b[0m\u001b[0;34m:\u001b[0m\u001b[0;34m\u001b[0m\u001b[0;34m\u001b[0m\u001b[0m\n\u001b[1;32m    127\u001b[0m         \u001b[0;32mtry\u001b[0m\u001b[0;34m:\u001b[0m\u001b[0;34m\u001b[0m\u001b[0;34m\u001b[0m\u001b[0m\n\u001b[0;32m--> 128\u001b[0;31m             \u001b[0;32mreturn\u001b[0m \u001b[0mf\u001b[0m\u001b[0;34m(\u001b[0m\u001b[0;34m*\u001b[0m\u001b[0ma\u001b[0m\u001b[0;34m,\u001b[0m \u001b[0;34m**\u001b[0m\u001b[0mkw\u001b[0m\u001b[0;34m)\u001b[0m\u001b[0;34m\u001b[0m\u001b[0;34m\u001b[0m\u001b[0m\n\u001b[0m\u001b[1;32m    129\u001b[0m         \u001b[0;32mexcept\u001b[0m \u001b[0mpy4j\u001b[0m\u001b[0;34m.\u001b[0m\u001b[0mprotocol\u001b[0m\u001b[0;34m.\u001b[0m\u001b[0mPy4JJavaError\u001b[0m \u001b[0;32mas\u001b[0m \u001b[0me\u001b[0m\u001b[0;34m:\u001b[0m\u001b[0;34m\u001b[0m\u001b[0;34m\u001b[0m\u001b[0m\n\u001b[1;32m    130\u001b[0m             \u001b[0mconverted\u001b[0m \u001b[0;34m=\u001b[0m \u001b[0mconvert_exception\u001b[0m\u001b[0;34m(\u001b[0m\u001b[0me\u001b[0m\u001b[0;34m.\u001b[0m\u001b[0mjava_exception\u001b[0m\u001b[0;34m)\u001b[0m\u001b[0;34m\u001b[0m\u001b[0;34m\u001b[0m\u001b[0m\n",
      "\u001b[0;32m/usr/local/lib/python3.7/dist-packages/py4j/protocol.py\u001b[0m in \u001b[0;36mget_return_value\u001b[0;34m(answer, gateway_client, target_id, name)\u001b[0m\n\u001b[1;32m    326\u001b[0m                 raise Py4JJavaError(\n\u001b[1;32m    327\u001b[0m                     \u001b[0;34m\"An error occurred while calling {0}{1}{2}.\\n\"\u001b[0m\u001b[0;34m.\u001b[0m\u001b[0;34m\u001b[0m\u001b[0;34m\u001b[0m\u001b[0m\n\u001b[0;32m--> 328\u001b[0;31m                     format(target_id, \".\", name), value)\n\u001b[0m\u001b[1;32m    329\u001b[0m             \u001b[0;32melse\u001b[0m\u001b[0;34m:\u001b[0m\u001b[0;34m\u001b[0m\u001b[0;34m\u001b[0m\u001b[0m\n\u001b[1;32m    330\u001b[0m                 raise Py4JError(\n",
      "\u001b[0;31mPy4JJavaError\u001b[0m: An error occurred while calling o306.parquet.\n: org.apache.spark.SparkException: Job aborted due to stage failure: Task 0 in stage 1.0 failed 4 times, most recent failure: Lost task 0.3 in stage 1.0 (TID 7, 172.20.1.18, executor 1): java.io.InvalidClassException: org.apache.spark.sql.execution.datasources.parquet.ParquetFileFormat$; local class incompatible: stream classdesc serialVersionUID = -187663704353307685, local class serialVersionUID = -3825936903196668049\n\tat java.io.ObjectStreamClass.initNonProxy(ObjectStreamClass.java:699)\n\tat java.io.ObjectInputStream.readNonProxyDesc(ObjectInputStream.java:1964)\n\tat java.io.ObjectInputStream.readClassDesc(ObjectInputStream.java:1830)\n\tat java.io.ObjectInputStream.readClass(ObjectInputStream.java:1793)\n\tat java.io.ObjectInputStream.readObject0(ObjectInputStream.java:1618)\n\tat java.io.ObjectInputStream.defaultReadFields(ObjectInputStream.java:2366)\n\tat java.io.ObjectInputStream.readSerialData(ObjectInputStream.java:2290)\n\tat java.io.ObjectInputStream.readOrdinaryObject(ObjectInputStream.java:2148)\n\tat java.io.ObjectInputStream.readObject0(ObjectInputStream.java:1647)\n\tat java.io.ObjectInputStream.readArray(ObjectInputStream.java:2054)\n\tat java.io.ObjectInputStream.readObject0(ObjectInputStream.java:1635)\n\tat java.io.ObjectInputStream.defaultReadFields(ObjectInputStream.java:2366)\n\tat java.io.ObjectInputStream.readSerialData(ObjectInputStream.java:2290)\n\tat java.io.ObjectInputStream.readOrdinaryObject(ObjectInputStream.java:2148)\n\tat java.io.ObjectInputStream.readObject0(ObjectInputStream.java:1647)\n\tat java.io.ObjectInputStream.readArray(ObjectInputStream.java:2054)\n\tat java.io.ObjectInputStream.readObject0(ObjectInputStream.java:1635)\n\tat java.io.ObjectInputStream.defaultReadFields(ObjectInputStream.java:2366)\n\tat java.io.ObjectInputStream.readSerialData(ObjectInputStream.java:2290)\n\tat java.io.ObjectInputStream.readOrdinaryObject(ObjectInputStream.java:2148)\n\tat java.io.ObjectInputStream.readObject0(ObjectInputStream.java:1647)\n\tat java.io.ObjectInputStream.defaultReadFields(ObjectInputStream.java:2366)\n\tat java.io.ObjectInputStream.readSerialData(ObjectInputStream.java:2290)\n\tat java.io.ObjectInputStream.readOrdinaryObject(ObjectInputStream.java:2148)\n\tat java.io.ObjectInputStream.readObject0(ObjectInputStream.java:1647)\n\tat java.io.ObjectInputStream.defaultReadFields(ObjectInputStream.java:2366)\n\tat java.io.ObjectInputStream.readSerialData(ObjectInputStream.java:2290)\n\tat java.io.ObjectInputStream.readOrdinaryObject(ObjectInputStream.java:2148)\n\tat java.io.ObjectInputStream.readObject0(ObjectInputStream.java:1647)\n\tat java.io.ObjectInputStream.readObject(ObjectInputStream.java:483)\n\tat java.io.ObjectInputStream.readObject(ObjectInputStream.java:441)\n\tat org.apache.spark.serializer.JavaDeserializationStream.readObject(JavaSerializer.scala:76)\n\tat org.apache.spark.serializer.JavaSerializerInstance.deserialize(JavaSerializer.scala:115)\n\tat org.apache.spark.scheduler.ResultTask.runTask(ResultTask.scala:83)\n\tat org.apache.spark.scheduler.Task.run(Task.scala:127)\n\tat org.apache.spark.executor.Executor$TaskRunner.$anonfun$run$3(Executor.scala:444)\n\tat org.apache.spark.util.Utils$.tryWithSafeFinally(Utils.scala:1377)\n\tat org.apache.spark.executor.Executor$TaskRunner.run(Executor.scala:447)\n\tat java.util.concurrent.ThreadPoolExecutor.runWorker(ThreadPoolExecutor.java:1149)\n\tat java.util.concurrent.ThreadPoolExecutor$Worker.run(ThreadPoolExecutor.java:624)\n\tat java.lang.Thread.run(Thread.java:748)\n\nDriver stacktrace:\n\tat org.apache.spark.scheduler.DAGScheduler.failJobAndIndependentStages(DAGScheduler.scala:2059)\n\tat org.apache.spark.scheduler.DAGScheduler.$anonfun$abortStage$2(DAGScheduler.scala:2008)\n\tat org.apache.spark.scheduler.DAGScheduler.$anonfun$abortStage$2$adapted(DAGScheduler.scala:2007)\n\tat scala.collection.mutable.ResizableArray.foreach(ResizableArray.scala:62)\n\tat scala.collection.mutable.ResizableArray.foreach$(ResizableArray.scala:55)\n\tat scala.collection.mutable.ArrayBuffer.foreach(ArrayBuffer.scala:49)\n\tat org.apache.spark.scheduler.DAGScheduler.abortStage(DAGScheduler.scala:2007)\n\tat org.apache.spark.scheduler.DAGScheduler.$anonfun$handleTaskSetFailed$1(DAGScheduler.scala:973)\n\tat org.apache.spark.scheduler.DAGScheduler.$anonfun$handleTaskSetFailed$1$adapted(DAGScheduler.scala:973)\n\tat scala.Option.foreach(Option.scala:407)\n\tat org.apache.spark.scheduler.DAGScheduler.handleTaskSetFailed(DAGScheduler.scala:973)\n\tat org.apache.spark.scheduler.DAGSchedulerEventProcessLoop.doOnReceive(DAGScheduler.scala:2239)\n\tat org.apache.spark.scheduler.DAGSchedulerEventProcessLoop.onReceive(DAGScheduler.scala:2188)\n\tat org.apache.spark.scheduler.DAGSchedulerEventProcessLoop.onReceive(DAGScheduler.scala:2177)\n\tat org.apache.spark.util.EventLoop$$anon$1.run(EventLoop.scala:49)\n\tat org.apache.spark.scheduler.DAGScheduler.runJob(DAGScheduler.scala:775)\n\tat org.apache.spark.SparkContext.runJob(SparkContext.scala:2099)\n\tat org.apache.spark.SparkContext.runJob(SparkContext.scala:2120)\n\tat org.apache.spark.SparkContext.runJob(SparkContext.scala:2139)\n\tat org.apache.spark.SparkContext.runJob(SparkContext.scala:2164)\n\tat org.apache.spark.rdd.RDD.$anonfun$collect$1(RDD.scala:1004)\n\tat org.apache.spark.rdd.RDDOperationScope$.withScope(RDDOperationScope.scala:151)\n\tat org.apache.spark.rdd.RDDOperationScope$.withScope(RDDOperationScope.scala:112)\n\tat org.apache.spark.rdd.RDD.withScope(RDD.scala:388)\n\tat org.apache.spark.rdd.RDD.collect(RDD.scala:1003)\n\tat org.apache.spark.sql.execution.datasources.SchemaMergeUtils$.mergeSchemasInParallel(SchemaMergeUtils.scala:69)\n\tat org.apache.spark.sql.execution.datasources.parquet.ParquetFileFormat$.mergeSchemasInParallel(ParquetFileFormat.scala:494)\n\tat org.apache.spark.sql.execution.datasources.parquet.ParquetUtils$.inferSchema(ParquetUtils.scala:107)\n\tat org.apache.spark.sql.execution.datasources.parquet.ParquetFileFormat.inferSchema(ParquetFileFormat.scala:163)\n\tat org.apache.spark.sql.execution.datasources.DataSource.$anonfun$getOrInferFileFormatSchema$11(DataSource.scala:198)\n\tat scala.Option.orElse(Option.scala:447)\n\tat org.apache.spark.sql.execution.datasources.DataSource.getOrInferFileFormatSchema(DataSource.scala:195)\n\tat org.apache.spark.sql.execution.datasources.DataSource.resolveRelation(DataSource.scala:408)\n\tat org.apache.spark.sql.DataFrameReader.loadV1Source(DataFrameReader.scala:297)\n\tat org.apache.spark.sql.DataFrameReader.$anonfun$load$2(DataFrameReader.scala:286)\n\tat scala.Option.getOrElse(Option.scala:189)\n\tat org.apache.spark.sql.DataFrameReader.load(DataFrameReader.scala:286)\n\tat org.apache.spark.sql.DataFrameReader.parquet(DataFrameReader.scala:755)\n\tat sun.reflect.NativeMethodAccessorImpl.invoke0(Native Method)\n\tat sun.reflect.NativeMethodAccessorImpl.invoke(NativeMethodAccessorImpl.java:62)\n\tat sun.reflect.DelegatingMethodAccessorImpl.invoke(DelegatingMethodAccessorImpl.java:43)\n\tat java.lang.reflect.Method.invoke(Method.java:498)\n\tat py4j.reflection.MethodInvoker.invoke(MethodInvoker.java:244)\n\tat py4j.reflection.ReflectionEngine.invoke(ReflectionEngine.java:357)\n\tat py4j.Gateway.invoke(Gateway.java:282)\n\tat py4j.commands.AbstractCommand.invokeMethod(AbstractCommand.java:132)\n\tat py4j.commands.CallCommand.execute(CallCommand.java:79)\n\tat py4j.GatewayConnection.run(GatewayConnection.java:238)\n\tat java.lang.Thread.run(Thread.java:748)\nCaused by: java.io.InvalidClassException: org.apache.spark.sql.execution.datasources.parquet.ParquetFileFormat$; local class incompatible: stream classdesc serialVersionUID = -187663704353307685, local class serialVersionUID = -3825936903196668049\n\tat java.io.ObjectStreamClass.initNonProxy(ObjectStreamClass.java:699)\n\tat java.io.ObjectInputStream.readNonProxyDesc(ObjectInputStream.java:1964)\n\tat java.io.ObjectInputStream.readClassDesc(ObjectInputStream.java:1830)\n\tat java.io.ObjectInputStream.readClass(ObjectInputStream.java:1793)\n\tat java.io.ObjectInputStream.readObject0(ObjectInputStream.java:1618)\n\tat java.io.ObjectInputStream.defaultReadFields(ObjectInputStream.java:2366)\n\tat java.io.ObjectInputStream.readSerialData(ObjectInputStream.java:2290)\n\tat java.io.ObjectInputStream.readOrdinaryObject(ObjectInputStream.java:2148)\n\tat java.io.ObjectInputStream.readObject0(ObjectInputStream.java:1647)\n\tat java.io.ObjectInputStream.readArray(ObjectInputStream.java:2054)\n\tat java.io.ObjectInputStream.readObject0(ObjectInputStream.java:1635)\n\tat java.io.ObjectInputStream.defaultReadFields(ObjectInputStream.java:2366)\n\tat java.io.ObjectInputStream.readSerialData(ObjectInputStream.java:2290)\n\tat java.io.ObjectInputStream.readOrdinaryObject(ObjectInputStream.java:2148)\n\tat java.io.ObjectInputStream.readObject0(ObjectInputStream.java:1647)\n\tat java.io.ObjectInputStream.readArray(ObjectInputStream.java:2054)\n\tat java.io.ObjectInputStream.readObject0(ObjectInputStream.java:1635)\n\tat java.io.ObjectInputStream.defaultReadFields(ObjectInputStream.java:2366)\n\tat java.io.ObjectInputStream.readSerialData(ObjectInputStream.java:2290)\n\tat java.io.ObjectInputStream.readOrdinaryObject(ObjectInputStream.java:2148)\n\tat java.io.ObjectInputStream.readObject0(ObjectInputStream.java:1647)\n\tat java.io.ObjectInputStream.defaultReadFields(ObjectInputStream.java:2366)\n\tat java.io.ObjectInputStream.readSerialData(ObjectInputStream.java:2290)\n\tat java.io.ObjectInputStream.readOrdinaryObject(ObjectInputStream.java:2148)\n\tat java.io.ObjectInputStream.readObject0(ObjectInputStream.java:1647)\n\tat java.io.ObjectInputStream.defaultReadFields(ObjectInputStream.java:2366)\n\tat java.io.ObjectInputStream.readSerialData(ObjectInputStream.java:2290)\n\tat java.io.ObjectInputStream.readOrdinaryObject(ObjectInputStream.java:2148)\n\tat java.io.ObjectInputStream.readObject0(ObjectInputStream.java:1647)\n\tat java.io.ObjectInputStream.readObject(ObjectInputStream.java:483)\n\tat java.io.ObjectInputStream.readObject(ObjectInputStream.java:441)\n\tat org.apache.spark.serializer.JavaDeserializationStream.readObject(JavaSerializer.scala:76)\n\tat org.apache.spark.serializer.JavaSerializerInstance.deserialize(JavaSerializer.scala:115)\n\tat org.apache.spark.scheduler.ResultTask.runTask(ResultTask.scala:83)\n\tat org.apache.spark.scheduler.Task.run(Task.scala:127)\n\tat org.apache.spark.executor.Executor$TaskRunner.$anonfun$run$3(Executor.scala:444)\n\tat org.apache.spark.util.Utils$.tryWithSafeFinally(Utils.scala:1377)\n\tat org.apache.spark.executor.Executor$TaskRunner.run(Executor.scala:447)\n\tat java.util.concurrent.ThreadPoolExecutor.runWorker(ThreadPoolExecutor.java:1149)\n\tat java.util.concurrent.ThreadPoolExecutor$Worker.run(ThreadPoolExecutor.java:624)\n\t... 1 more\n"
     ]
    }
   ],
   "source": [
    "sdf_ods_user = spark.read.parquet(\"/root/data/guiyang.yang/YGY/ClickHouse/data/ods_user.parquet\")"
   ]
  },
  {
   "cell_type": "code",
   "execution_count": null,
   "metadata": {},
   "outputs": [],
   "source": [
    "list_id_collect = sdf_ods_user.select('id').collect()\n",
    "list_id = [row[0] for row in list_id_collect]"
   ]
  },
  {
   "cell_type": "code",
   "execution_count": null,
   "metadata": {},
   "outputs": [],
   "source": [
    "list_gender = [0,1,2]\n",
    "list_user_level = [0,1,2,3,4,5]\n",
    "list_certificate = [110001,110002,110003,110004,110005,110006,110007,110008,110009,110011,\\\n",
    "                    110013,110015,110017,110018,110019,110020,110021,110022,110023,110024,\\\n",
    "                    110025,110026,110027,110028,110029,110030,110031,110033,110034,110035,\\\n",
    "                    110037,110047,110055,110057,119999]\n",
    "list_nation = [0,1,2,3,4,5,6,7,8,10,\\\n",
    "               11,12,13,14,15,16,17,18,19,20,\\\n",
    "               21,22,23,24,25,26,27,28,29,30,\\\n",
    "               31,32,33,34,35,36,37,38,39,40,\\\n",
    "               41,42,43,44,45,46,47,48,49,50,\\\n",
    "               51,52,53,54,55,56,57,98,99]\n",
    "list_education = [0,1,2,3,4,5,6,7,8,10,\\\n",
    "               11,12,13,14,15,16,17,18,19,20,\\\n",
    "               21,22,23,24,25,26,27,28,29,30,\\\n",
    "               31,32,33,34,35,36,37,38,39,40,\\\n",
    "               41,42,43,44,45,46,47,48,49,50,\\\n",
    "               51,52,53,54,55,56,57,58,59,60,\\\n",
    "               61,62,63,64,65,66,67,68,69,70,\\\n",
    "               71,72,73,74,75,76,77,78,79,80,\\\n",
    "               81,82,83,84,85,86,87,88]\n",
    "list_populatioin = [0,1,2,3,4,5,6,7,8,10,\\\n",
    "                   11,19,20,26,30,42,44,50,52,64,\\\n",
    "                   66,70,78,80,90,98,99,103,134,148,\\\n",
    "                   151,184,198,203,218,219,231,234,240,247,\\\n",
    "                   248,250,251]\n",
    "list_job_level = [0,1,2,3,4,5,6,7,8,10,\\\n",
    "                  11,12,22,32,37,42,51,52,53,57,\\\n",
    "                  58,60,63,67,72,75,78,79,80,82,\\\n",
    "                  93,98,99]\n",
    "list_relationship_type = [0,1,2]\n",
    "list_marriage = [0,1,2,3,4]\n",
    "list_inline_customer = ['0','1']"
   ]
  },
  {
   "cell_type": "markdown",
   "metadata": {},
   "source": [
    "- 将列表中的数据转化为一个dataframe，然后与ods_user连接"
   ]
  },
  {
   "cell_type": "code",
   "execution_count": 88,
   "metadata": {},
   "outputs": [],
   "source": [
    "import os\n",
    "import time\n",
    "import pandas as pd\n",
    "\n",
    "from faker import Faker\n",
    "from datetime import date,datetime,timedelta\n",
    "import random\n",
    "import numpy as np\n",
    "\n",
    "import json\n",
    "import string\n",
    "fake = Faker()"
   ]
  },
  {
   "cell_type": "code",
   "execution_count": 89,
   "metadata": {},
   "outputs": [],
   "source": [
    "class ods_userDataGen:\n",
    "    def __init__(self):\n",
    "        self.data_dict = {}\n",
    "    def fake_data(self, a, list_id):\n",
    "        pt_profile = fake.profile()\n",
    "        self.data_dict['c_id'] = list_id[a]\n",
    "        self.data_dict['gender'] = np.random.choice(list_gender)\n",
    "        self.data_dict['user_level'] = np.random.choice(list_user_level)\n",
    "        self.data_dict['certificate'] = np.random.choice(list_certificate) \n",
    "        self.data_dict['nation'] = np.random.choice(list_nation)\n",
    "        self.data_dict['education'] = np.random.choice(list_education)\n",
    "        self.data_dict['population'] = np.random.choice(list_populatioin)\n",
    "        self.data_dict['job_level'] = np.random.choice(list_job_level)\n",
    "        self.data_dict['relationship_type'] = np.random.choice(list_relationship_type)\n",
    "        self.data_dict['marriage']= np.random.choice(list_marriage)\n",
    "        self.data_dict['inline_customer']= random.choice(list_inline_customer)\n",
    "        \n",
    "\n",
    "    def get_data_series(self):\n",
    "        return pd.Series(self.data_dict)\n",
    "\n",
    "    def get_data_dict(self):\n",
    "        return self.data_dict\n",
    "\n",
    "\n",
    "rst_list = []\n",
    "for b in range(len(list_id)):\n",
    "    pt_data = ods_userDataGen()\n",
    "    pt_data.fake_data(b,list_id)\n",
    "    rst_list.append(pt_data.get_data_dict())\n",
    "\n",
    "df = pd.DataFrame(rst_list)"
   ]
  },
  {
   "cell_type": "code",
   "execution_count": 90,
   "metadata": {},
   "outputs": [
    {
     "data": {
      "text/html": [
       "<div>\n",
       "<style scoped>\n",
       "    .dataframe tbody tr th:only-of-type {\n",
       "        vertical-align: middle;\n",
       "    }\n",
       "\n",
       "    .dataframe tbody tr th {\n",
       "        vertical-align: top;\n",
       "    }\n",
       "\n",
       "    .dataframe thead th {\n",
       "        text-align: right;\n",
       "    }\n",
       "</style>\n",
       "<table border=\"1\" class=\"dataframe\">\n",
       "  <thead>\n",
       "    <tr style=\"text-align: right;\">\n",
       "      <th></th>\n",
       "      <th>c_id</th>\n",
       "      <th>gender</th>\n",
       "      <th>user_level</th>\n",
       "      <th>certificate</th>\n",
       "      <th>nation</th>\n",
       "      <th>education</th>\n",
       "      <th>population</th>\n",
       "      <th>job_level</th>\n",
       "      <th>relationship_type</th>\n",
       "      <th>marriage</th>\n",
       "      <th>inline_customer</th>\n",
       "    </tr>\n",
       "  </thead>\n",
       "  <tbody>\n",
       "    <tr>\n",
       "      <th>0</th>\n",
       "      <td>1096</td>\n",
       "      <td>0</td>\n",
       "      <td>1</td>\n",
       "      <td>110027</td>\n",
       "      <td>49</td>\n",
       "      <td>8</td>\n",
       "      <td>0</td>\n",
       "      <td>2</td>\n",
       "      <td>0</td>\n",
       "      <td>1</td>\n",
       "      <td>1</td>\n",
       "    </tr>\n",
       "    <tr>\n",
       "      <th>1</th>\n",
       "      <td>1087</td>\n",
       "      <td>2</td>\n",
       "      <td>0</td>\n",
       "      <td>110037</td>\n",
       "      <td>34</td>\n",
       "      <td>80</td>\n",
       "      <td>134</td>\n",
       "      <td>60</td>\n",
       "      <td>0</td>\n",
       "      <td>1</td>\n",
       "      <td>0</td>\n",
       "    </tr>\n",
       "    <tr>\n",
       "      <th>2</th>\n",
       "      <td>2090</td>\n",
       "      <td>0</td>\n",
       "      <td>2</td>\n",
       "      <td>110003</td>\n",
       "      <td>54</td>\n",
       "      <td>2</td>\n",
       "      <td>7</td>\n",
       "      <td>1</td>\n",
       "      <td>1</td>\n",
       "      <td>4</td>\n",
       "      <td>1</td>\n",
       "    </tr>\n",
       "    <tr>\n",
       "      <th>3</th>\n",
       "      <td>4474</td>\n",
       "      <td>2</td>\n",
       "      <td>0</td>\n",
       "      <td>110005</td>\n",
       "      <td>19</td>\n",
       "      <td>44</td>\n",
       "      <td>11</td>\n",
       "      <td>60</td>\n",
       "      <td>1</td>\n",
       "      <td>1</td>\n",
       "      <td>1</td>\n",
       "    </tr>\n",
       "    <tr>\n",
       "      <th>4</th>\n",
       "      <td>5803</td>\n",
       "      <td>1</td>\n",
       "      <td>0</td>\n",
       "      <td>110026</td>\n",
       "      <td>36</td>\n",
       "      <td>69</td>\n",
       "      <td>251</td>\n",
       "      <td>37</td>\n",
       "      <td>1</td>\n",
       "      <td>2</td>\n",
       "      <td>0</td>\n",
       "    </tr>\n",
       "    <tr>\n",
       "      <th>...</th>\n",
       "      <td>...</td>\n",
       "      <td>...</td>\n",
       "      <td>...</td>\n",
       "      <td>...</td>\n",
       "      <td>...</td>\n",
       "      <td>...</td>\n",
       "      <td>...</td>\n",
       "      <td>...</td>\n",
       "      <td>...</td>\n",
       "      <td>...</td>\n",
       "      <td>...</td>\n",
       "    </tr>\n",
       "    <tr>\n",
       "      <th>9995</th>\n",
       "      <td>2688</td>\n",
       "      <td>2</td>\n",
       "      <td>1</td>\n",
       "      <td>110005</td>\n",
       "      <td>1</td>\n",
       "      <td>76</td>\n",
       "      <td>8</td>\n",
       "      <td>5</td>\n",
       "      <td>1</td>\n",
       "      <td>0</td>\n",
       "      <td>1</td>\n",
       "    </tr>\n",
       "    <tr>\n",
       "      <th>9996</th>\n",
       "      <td>3127</td>\n",
       "      <td>1</td>\n",
       "      <td>0</td>\n",
       "      <td>110006</td>\n",
       "      <td>10</td>\n",
       "      <td>4</td>\n",
       "      <td>20</td>\n",
       "      <td>4</td>\n",
       "      <td>1</td>\n",
       "      <td>3</td>\n",
       "      <td>0</td>\n",
       "    </tr>\n",
       "    <tr>\n",
       "      <th>9997</th>\n",
       "      <td>5289</td>\n",
       "      <td>2</td>\n",
       "      <td>2</td>\n",
       "      <td>110057</td>\n",
       "      <td>6</td>\n",
       "      <td>83</td>\n",
       "      <td>11</td>\n",
       "      <td>80</td>\n",
       "      <td>0</td>\n",
       "      <td>3</td>\n",
       "      <td>1</td>\n",
       "    </tr>\n",
       "    <tr>\n",
       "      <th>9998</th>\n",
       "      <td>7786</td>\n",
       "      <td>0</td>\n",
       "      <td>4</td>\n",
       "      <td>110025</td>\n",
       "      <td>23</td>\n",
       "      <td>22</td>\n",
       "      <td>42</td>\n",
       "      <td>58</td>\n",
       "      <td>0</td>\n",
       "      <td>1</td>\n",
       "      <td>1</td>\n",
       "    </tr>\n",
       "    <tr>\n",
       "      <th>9999</th>\n",
       "      <td>9125</td>\n",
       "      <td>0</td>\n",
       "      <td>3</td>\n",
       "      <td>110028</td>\n",
       "      <td>48</td>\n",
       "      <td>37</td>\n",
       "      <td>251</td>\n",
       "      <td>82</td>\n",
       "      <td>2</td>\n",
       "      <td>1</td>\n",
       "      <td>0</td>\n",
       "    </tr>\n",
       "  </tbody>\n",
       "</table>\n",
       "<p>10000 rows × 11 columns</p>\n",
       "</div>"
      ],
      "text/plain": [
       "      c_id  gender  user_level  certificate  nation  education  population  \\\n",
       "0     1096       0           1       110027      49          8           0   \n",
       "1     1087       2           0       110037      34         80         134   \n",
       "2     2090       0           2       110003      54          2           7   \n",
       "3     4474       2           0       110005      19         44          11   \n",
       "4     5803       1           0       110026      36         69         251   \n",
       "...    ...     ...         ...          ...     ...        ...         ...   \n",
       "9995  2688       2           1       110005       1         76           8   \n",
       "9996  3127       1           0       110006      10          4          20   \n",
       "9997  5289       2           2       110057       6         83          11   \n",
       "9998  7786       0           4       110025      23         22          42   \n",
       "9999  9125       0           3       110028      48         37         251   \n",
       "\n",
       "      job_level  relationship_type  marriage inline_customer  \n",
       "0             2                  0         1               1  \n",
       "1            60                  0         1               0  \n",
       "2             1                  1         4               1  \n",
       "3            60                  1         1               1  \n",
       "4            37                  1         2               0  \n",
       "...         ...                ...       ...             ...  \n",
       "9995          5                  1         0               1  \n",
       "9996          4                  1         3               0  \n",
       "9997         80                  0         3               1  \n",
       "9998         58                  0         1               1  \n",
       "9999         82                  2         1               0  \n",
       "\n",
       "[10000 rows x 11 columns]"
      ]
     },
     "execution_count": 90,
     "metadata": {},
     "output_type": "execute_result"
    }
   ],
   "source": [
    "df"
   ]
  },
  {
   "cell_type": "code",
   "execution_count": 91,
   "metadata": {},
   "outputs": [],
   "source": [
    "sdf_correct = spark.createDataFrame(df)"
   ]
  },
  {
   "cell_type": "code",
   "execution_count": 92,
   "metadata": {},
   "outputs": [],
   "source": [
    "sdf_error = sdf_ods_user.drop('gender','user_level','certificate','nation','education',\\\n",
    "                              'population','job_level','relationship_type','marriage','inline_customer')"
   ]
  },
  {
   "cell_type": "code",
   "execution_count": 93,
   "metadata": {},
   "outputs": [],
   "source": [
    "sdf_ods_user_right = sdf_error.join(sdf_correct,sdf_error.id==sdf_correct.c_id,'inner').drop('c_id')"
   ]
  },
  {
   "cell_type": "code",
   "execution_count": 94,
   "metadata": {},
   "outputs": [
    {
     "data": {
      "text/plain": [
       "10000"
      ]
     },
     "execution_count": 94,
     "metadata": {},
     "output_type": "execute_result"
    }
   ],
   "source": [
    "sdf_ods_user_right.count()"
   ]
  },
  {
   "cell_type": "markdown",
   "metadata": {},
   "source": [
    "- 保存一份ods_user的parquet文件，备份到自己的目录"
   ]
  },
  {
   "cell_type": "code",
   "execution_count": 55,
   "metadata": {},
   "outputs": [],
   "source": [
    "# 将spark.dataframe保存为parquet文件\n",
    "#sdf_ods_user.write.parquet(\"/root/data/guiyang.yang/YGY/ClickHouse/data/ods_user.parquet\",mode='overwrite')\n",
    "\n",
    "# 读取parquet文件为spark.dataframe\n",
    "#sdf_spark = spark.read.parquet(\"/root/data/guiyang.yang/YGY/ClickHouse/data/ods_user.parquet\")"
   ]
  },
  {
   "cell_type": "markdown",
   "metadata": {},
   "source": [
    "- 清空当前ods_user表的数据，并插入修正后的数据"
   ]
  },
  {
   "cell_type": "code",
   "execution_count": 58,
   "metadata": {},
   "outputs": [],
   "source": [
    "from clickhouse_driver import connect\n",
    "import clickhouse_driver\n",
    "\n",
    "conn = connect(host='chi-ftabc-clickhouse-0-0.default.svc.cluster.local', port='9000', database='ftabcch', user='ftabc', password='aihub@2020')\n",
    "cursor = conn.cursor()"
   ]
  },
  {
   "cell_type": "code",
   "execution_count": 59,
   "metadata": {},
   "outputs": [
    {
     "data": {
      "text/plain": [
       "[('chi-ftabc-clickhouse-3-0', 9000, 0, '', 3, 0),\n",
       " ('chi-ftabc-clickhouse-2-0', 9000, 0, '', 2, 0),\n",
       " ('chi-ftabc-clickhouse-1-0', 9000, 0, '', 1, 0),\n",
       " ('chi-ftabc-clickhouse-0-0', 9000, 0, '', 0, 0)]"
      ]
     },
     "execution_count": 59,
     "metadata": {},
     "output_type": "execute_result"
    }
   ],
   "source": [
    "# 清空当前clickhouse的ods_user表的数据\n",
    "#cursor.execute('alter table ods_user on cluster \"clickhouse\" delete where id is not null')\n",
    "#cursor.fetchall()"
   ]
  },
  {
   "cell_type": "markdown",
   "metadata": {},
   "source": [
    "- 插入修改后的数据"
   ]
  },
  {
   "cell_type": "code",
   "execution_count": 95,
   "metadata": {},
   "outputs": [],
   "source": [
    "ods_user1,ods_user2,ods_user3,ods_user4 = sdf_ods_user_right.randomSplit([0.25,0.25,0.25,0.25])"
   ]
  },
  {
   "cell_type": "code",
   "execution_count": 98,
   "metadata": {},
   "outputs": [
    {
     "name": "stdout",
     "output_type": "stream",
     "text": [
      "分片0插入数据成功\n",
      "分片1插入数据成功\n",
      "分片2插入数据成功\n",
      "分片3插入数据成功\n"
     ]
    }
   ],
   "source": [
    "write_data_toClickHouse(ods_user1,0,\"ftabcch.ods_user\")\n",
    "write_data_toClickHouse(ods_user2,1,\"ftabcch.ods_user\")\n",
    "write_data_toClickHouse(ods_user3,2,\"ftabcch.ods_user\")\n",
    "write_data_toClickHouse(ods_user4,3,\"ftabcch.ods_user\")"
   ]
  },
  {
   "cell_type": "markdown",
   "metadata": {},
   "source": [
    "- 保存一份到根目录"
   ]
  },
  {
   "cell_type": "code",
   "execution_count": 100,
   "metadata": {},
   "outputs": [],
   "source": [
    "sdf_ods_user_right.write.parquet(\"/root/data/ods_user.parquet\",mode='overwrite')"
   ]
  },
  {
   "cell_type": "code",
   "execution_count": 101,
   "metadata": {},
   "outputs": [],
   "source": [
    "spark.stop()"
   ]
  },
  {
   "cell_type": "code",
   "execution_count": null,
   "metadata": {},
   "outputs": [],
   "source": []
  },
  {
   "cell_type": "code",
   "execution_count": null,
   "metadata": {},
   "outputs": [],
   "source": []
  },
  {
   "cell_type": "code",
   "execution_count": null,
   "metadata": {},
   "outputs": [],
   "source": []
  },
  {
   "cell_type": "code",
   "execution_count": null,
   "metadata": {},
   "outputs": [],
   "source": []
  },
  {
   "cell_type": "code",
   "execution_count": null,
   "metadata": {},
   "outputs": [],
   "source": []
  },
  {
   "cell_type": "code",
   "execution_count": null,
   "metadata": {},
   "outputs": [],
   "source": []
  },
  {
   "cell_type": "code",
   "execution_count": 1,
   "metadata": {},
   "outputs": [],
   "source": [
    "import os\n",
    "import socket\n",
    "from datetime import date,datetime,timedelta\n",
    "import time\n",
    "from pyspark import SparkContext, SparkConf\n",
    "from pyspark.sql import SparkSession\n",
    "from pyspark.sql.types import *\n",
    "import pyspark.sql.functions as F\n"
   ]
  },
  {
   "cell_type": "code",
   "execution_count": 2,
   "metadata": {},
   "outputs": [],
   "source": [
    "from pyspark.ml.feature import StringIndexer, StringIndexerModel"
   ]
  },
  {
   "cell_type": "code",
   "execution_count": 4,
   "metadata": {},
   "outputs": [
    {
     "ename": "NameError",
     "evalue": "name 'pyspark' is not defined",
     "output_type": "error",
     "traceback": [
      "\u001b[0;31m---------------------------------------------------------------------------\u001b[0m",
      "\u001b[0;31mNameError\u001b[0m                                 Traceback (most recent call last)",
      "\u001b[0;32m<ipython-input-4-74249a29a127>\u001b[0m in \u001b[0;36m<module>\u001b[0;34m\u001b[0m\n\u001b[0;32m----> 1\u001b[0;31m \u001b[0mdf\u001b[0m \u001b[0;34m=\u001b[0m \u001b[0mpyspark\u001b[0m\u001b[0;34m.\u001b[0m\u001b[0mcreateDataFrame\u001b[0m\u001b[0;34m(\u001b[0m\u001b[0;34m[\u001b[0m\u001b[0;34m(\u001b[0m\u001b[0;34m\"a\"\u001b[0m\u001b[0;34m,\u001b[0m \u001b[0;34m\"foo\"\u001b[0m\u001b[0;34m)\u001b[0m\u001b[0;34m,\u001b[0m \u001b[0;34m(\u001b[0m\u001b[0;34m\"b\"\u001b[0m\u001b[0;34m,\u001b[0m \u001b[0;34m\"bar\"\u001b[0m\u001b[0;34m)\u001b[0m\u001b[0;34m]\u001b[0m\u001b[0;34m,\u001b[0m \u001b[0;34m(\u001b[0m\u001b[0;34m\"x1\"\u001b[0m\u001b[0;34m,\u001b[0m \u001b[0;34m\"x2\"\u001b[0m\u001b[0;34m)\u001b[0m\u001b[0;34m)\u001b[0m\u001b[0;34m\u001b[0m\u001b[0;34m\u001b[0m\u001b[0m\n\u001b[0m\u001b[1;32m      2\u001b[0m \u001b[0;34m\u001b[0m\u001b[0m\n\u001b[1;32m      3\u001b[0m pipeline = Pipeline(stages=[\n\u001b[1;32m      4\u001b[0m     \u001b[0mStringIndexer\u001b[0m\u001b[0;34m(\u001b[0m\u001b[0minputCol\u001b[0m\u001b[0;34m=\u001b[0m\u001b[0mc\u001b[0m\u001b[0;34m,\u001b[0m \u001b[0moutputCol\u001b[0m\u001b[0;34m=\u001b[0m\u001b[0;34m'{}_index'\u001b[0m\u001b[0;34m.\u001b[0m\u001b[0mformat\u001b[0m\u001b[0;34m(\u001b[0m\u001b[0mc\u001b[0m\u001b[0;34m)\u001b[0m\u001b[0;34m)\u001b[0m\u001b[0;34m\u001b[0m\u001b[0;34m\u001b[0m\u001b[0m\n\u001b[1;32m      5\u001b[0m     \u001b[0;32mfor\u001b[0m \u001b[0mc\u001b[0m \u001b[0;32min\u001b[0m \u001b[0mdf\u001b[0m\u001b[0;34m.\u001b[0m\u001b[0mcolumns\u001b[0m\u001b[0;34m\u001b[0m\u001b[0;34m\u001b[0m\u001b[0m\n",
      "\u001b[0;31mNameError\u001b[0m: name 'pyspark' is not defined"
     ]
    }
   ],
   "source": [
    "df = pyspark.createDataFrame([(\"a\", \"foo\"), (\"b\", \"bar\")], (\"x1\", \"x2\"))\n",
    "\n",
    "pipeline = Pipeline(stages=[\n",
    "    StringIndexer(inputCol=c, outputCol='{}_index'.format(c))\n",
    "    for c in df.columns\n",
    "])\n",
    "\n",
    "model = pipeline.fit(df)"
   ]
  },
  {
   "cell_type": "code",
   "execution_count": null,
   "metadata": {},
   "outputs": [],
   "source": []
  }
 ],
 "metadata": {
  "kernelspec": {
   "display_name": "Python 3",
   "language": "python",
   "name": "python3"
  },
  "language_info": {
   "codemirror_mode": {
    "name": "ipython",
    "version": 3
   },
   "file_extension": ".py",
   "mimetype": "text/x-python",
   "name": "python",
   "nbconvert_exporter": "python",
   "pygments_lexer": "ipython3",
   "version": "3.7.5"
  }
 },
 "nbformat": 4,
 "nbformat_minor": 4
}
