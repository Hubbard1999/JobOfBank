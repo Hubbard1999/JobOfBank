{
 "cells": [
  {
   "cell_type": "code",
   "execution_count": 1,
   "id": "contemporary-tokyo",
   "metadata": {},
   "outputs": [],
   "source": [
    "from jupyter_dash import JupyterDash\n",
    "import dash\n",
    "import dash_core_components as dcc\n",
    "import dash_html_components as html\n",
    "import pandas as pd\n",
    "import plotly.express as px\n",
    "import plotly.graph_objects as go\n",
    "from dash.dependencies import Input, Output\n",
    "# from fbprophet import Prophet\n",
    "from datetime import datetime,timedelta,date\n",
    "import datetime\n",
    "from clickhouse_driver import connect\n",
    "import clickhouse_driver\n",
    "from fbprophet import Prophet"
   ]
  },
  {
   "cell_type": "code",
   "execution_count": null,
   "id": "alpha-steam",
   "metadata": {},
   "outputs": [],
   "source": [
    "JupyterDash.infer_jupyter_proxy_config()"
   ]
  },
  {
   "cell_type": "code",
   "execution_count": 4,
   "id": "incorporate-underwear",
   "metadata": {},
   "outputs": [],
   "source": [
    "external_stylesheets = ['https://codepen.io/chriddyp/pen/bWLwgP.css']\n",
    "app = JupyterDash(__name__, external_stylesheets=external_stylesheets)\n",
    "\n",
    "server = app.server\n",
    "\n",
    "#获取每月月末\n",
    "def get_last_day(now_time):\n",
    "    this_year = now_time.year\n",
    "    if(now_time.month != 12):\n",
    "        next_month = now_time.month + 1\n",
    "    else:\n",
    "        next_month = now_time.month\n",
    "    return datetime.date(month=next_month, year=this_year, day=1)-timedelta(days=1)\n",
    "# 求出各个点的目标dau\n",
    "def standard_mau(this_date,this_month,last_day,target_mau):\n",
    "    if len(this_date) != 0 :\n",
    "        k = (target_mau - 0) / (last_day.day - this_month.day)\n",
    "        b = target_mau - k * last_day.day\n",
    "        #如果是第一天则按照y=kx+b来算\n",
    "        date_lst = this_date[0][0].split('-')\n",
    "        this_date_time = datetime.date(year=int(date_lst[0]),month=int(date_lst[1]),day=int(date_lst[2]))\n",
    "        if this_date_time == this_month:\n",
    "            lst=[]\n",
    "            for i in range(len(this_date)):\n",
    "                date_list = this_date[i][0].split('-')\n",
    "                lst.append((datetime.date(year=int(date_list[0]),month=int(date_list[1]),day=int(date_list[2])),int(k*int(date_list[2])+b)))\n",
    "            pd.DataFrame(lst, columns=['ds', 'MAU']).to_csv('target_mau.csv',index=False)\n",
    "        #如果不是第一天，则略过\n",
    "        else:\n",
    "            pass\n",
    "# 获取数据\n",
    "def get_control_data(date,j):\n",
    "    # 获取clickhouse连接\n",
    "    client = clickhouse_driver.Client(host='chi-ftabc-clickhouse-0-0.default.svc.cluster.local', port='9000', database='ftabcch', user='ftabc', password='aihub@2020')\n",
    "    conn = connect(host='chi-ftabc-clickhouse-3-0.default.svc.cluster.local', port='9000', database='ftabcch', user='ftabc', password='aihub@2021')\n",
    "    cursor = conn.cursor()\n",
    "    # 获取当天和当月第一天\n",
    "    cursor.execute('''select addDays(toDate('{}'),{}),toStartOfMonth(addDays(toDate('{}'),{}))'''.format(date,j,date,j))\n",
    "    this_date,this_month = cursor.fetchall()[0]\n",
    "    # 获取目标mau\n",
    "    cursor.execute('''\n",
    "    select count(distinct id) from dws_event_2020_middle_distribute \n",
    "    where toStartOfMonth(app_date)=toStartOfMonth(toDate('{}'))\n",
    "    '''.format(str(this_month-timedelta(days=1))))\n",
    "    this_month_target_mau = cursor.fetchall()[0][0]\n",
    "    # 获取当前的mau\n",
    "    cursor.execute('''\n",
    "    select count(distinct id) from dws_event_2020_middle_distribute \n",
    "    where app_date between '{}' and '{}'\n",
    "    '''.format(this_month,this_date))\n",
    "    this_month_mau_till_now = int(cursor.fetchall()[0][0])\n",
    "    this_month_mau_now = [(this_date,this_month_mau_till_now)]\n",
    "    if this_date == this_month :\n",
    "        pd.DataFrame(this_month_mau_now,columns=['ds','y']).to_csv('currrent_mau.csv',index=False)\n",
    "    else :\n",
    "        pd.DataFrame(this_month_mau_now,columns=['ds','y']).to_csv('currrent_mau.csv',index=False,mode='a',header=False)\n",
    "     #获取本月最后一天\n",
    "    last_day = get_last_day(this_month)\n",
    "    #获取本月所有的天数\n",
    "    cursor.execute('''\n",
    "    select toString(app_date) from dws_event_2020_middle_distribute \n",
    "    where app_date>=('{}') and app_date<=toDate('{}') group by app_date order by app_date\n",
    "    '''.format(this_date,last_day))\n",
    "    days = int(str(this_date).split('-')[-1])\n",
    "    all_day = cursor.fetchall()\n",
    "    # 用第一天和最后一天使用y=kx+b得到本月每天应该达到的dau,每到月头重画一次\n",
    "    standard_mau(all_day,this_month,last_day,this_month_target_mau)\n",
    "    cursor.close()\n",
    "    conn.close()\n",
    "    if this_month_target_mau != 0:\n",
    "        return this_month_mau_till_now,this_month_target_mau,round((this_month_mau_till_now/this_month_target_mau)*100,2)\n",
    "    else :\n",
    "        return this_month_mau_till_now,this_month_target_mau,0"
   ]
  },
  {
   "cell_type": "code",
   "execution_count": 5,
   "id": "radical-digest",
   "metadata": {},
   "outputs": [],
   "source": [
    "def get_data(date,j,branch=\"所有支行\"):\n",
    "    client = clickhouse_driver.Client(host='chi-ftabc-clickhouse-0-0.default.svc.cluster.local', port='9000', database='ftabcch', user='ftabc', password='aihub@2020')\n",
    "    conn = connect(host='chi-ftabc-clickhouse-3-0.default.svc.cluster.local', port='9000', database='ftabcch', user='ftabc', password='aihub@2021')\n",
    "    cursor = conn.cursor()\n",
    "    cursor.execute('''select addDays(toDate('{}'),{}),toStartOfMonth(addDays(toDate('{}'),{}))'''.format(date,j,date,j))\n",
    "    this_date,this_month = cursor.fetchall()[0]#[0][0]-timedelta(days=1)\n",
    "    #print(this_date,this_month)\n",
    "    \n",
    "####目标mau计算\n",
    "    if(branch==\"所有支行\"):\n",
    "        cursor.execute('''\n",
    "        select count(distinct id) from dws_event_2020_middle_distribute \n",
    "        where toStartOfMonth(app_date)=toStartOfMonth(toDate('{}'))\n",
    "        '''.format(str(this_month-timedelta(days=1))))\n",
    "    else:\n",
    "        cursor.execute('''\n",
    "        select count(distinct id) from dws_event_2020_middle_distribute \n",
    "        where toStartOfMonth(app_date)=toStartOfMonth(toDate('{}')) and \n",
    "        id global in (select id from ods_user_distribute where sub_branch='{}')\n",
    "        '''.format(str(this_month-timedelta(days=1)),branch))\n",
    "    this_month_target_mau = cursor.fetchall()[0][0]\n",
    "####\n",
    "    \n",
    "    #print(this_month_target_mau)\n",
    "####本月至今累计MAU\n",
    "    if(branch==\"所有支行\"):\n",
    "        cursor.execute('''\n",
    "        select count(distinct id) from dws_event_2020_middle_distribute \n",
    "        where app_date between '{}' and '{}'\n",
    "        '''.format(this_month,this_date))\n",
    "    else:\n",
    "        cursor.execute('''\n",
    "        select count(distinct id) from dws_event_2020_middle_distribute \n",
    "        where app_date between '{}' and '{}' and \n",
    "        id global in (select id from ods_user_distribute where sub_branch='{}')\n",
    "        '''.format(this_month,this_date,branch))\n",
    "    this_month_mau_till_now = cursor.fetchall()[0][0]\n",
    "####\n",
    "    #print(this_month_mau_till_now)\n",
    "####本月每一天的真实DAU\n",
    "    if(branch==\"所有支行\"):\n",
    "        cursor.execute('''\n",
    "        select toString(app_date),count(distinct id) from dws_event_2020_middle_distribute \n",
    "        where app_date<=toDate('{}') group by app_date order by app_date\n",
    "        '''.format(this_date))\n",
    "    else:\n",
    "        cursor.execute('''\n",
    "        select toString(app_date),count(distinct id) from dws_event_2020_middle_distribute \n",
    "        where app_date<=toDate('{}') and \n",
    "        id global in (select id from ods_user_distribute where sub_branch='{}')         \n",
    "        group by app_date order by app_date\n",
    "        '''.format(this_date,branch))\n",
    "    all_dau = cursor.fetchall()\n",
    "    all_dau_pdf = pd.DataFrame(all_dau,columns=['ds','y'])#.iloc[-days:]\n",
    "####\n",
    "    days = int(str(this_date).split('-')[-1])\n",
    "\n",
    "####预测本月每天的prophet值\n",
    "    def generate_prophet_data(this_month,this_date,all_dau_pdf,days):\n",
    "#         print(all_dau_pdf)\n",
    "####若今天是本月第一天,则预测本月第一天的prophet值\n",
    "        if(this_month==this_date):\n",
    "                m = Prophet()\n",
    "                m.fit(all_dau_pdf.iloc[:-days])\n",
    "                future = m.make_future_dataframe(periods=1)\n",
    "                forecast = m.predict(future).tail(1)\n",
    "                forecast['ds'] = forecast['ds'].apply(lambda x:str(x)[0:10])\n",
    "                forecast[['ds', 'yhat', 'yhat_lower', 'yhat_upper']].to_csv('mau_prophet_data.csv',index=False)\n",
    "####若今天不是本月第一天,则预测出月初至今天的所有prophet值,注意这里prophet值是一天一天地预测的,而不是一次就预测完所有的prophet值\n",
    "        else:\n",
    "            try:\n",
    "####若本月之前有预测过prophet值，则读取上次预测的日期，从上次预测的日期开始继续预测\n",
    "                last_predict_csv = pd.read_csv('mau_prophet_data.csv')\n",
    "                last_predict_date = datetime.strptime(last_predict_csv.iloc[-1:]['ds'].values[0],'%Y-%m-%d').date()\n",
    "                datediff = (this_date - last_predict_date).days\n",
    "            except:\n",
    "####若本月之前没有预测过prophet值，则先预测出本月第一天的prophet值，然后再一天接一天地预测每天的prophet值\n",
    "                m = Prophet()\n",
    "                m.fit(all_dau_pdf.iloc[:-days])\n",
    "                future = m.make_future_dataframe(periods=1)\n",
    "                forecast = m.predict(future).tail(1)\n",
    "                forecast[['ds', 'yhat', 'yhat_lower', 'yhat_upper']].to_csv('mau_prophet_data.csv',index=False)\n",
    "                datediff = days-1\n",
    "                last_predict_csv = pd.read_csv('mau_prophet_data.csv')\n",
    "            for i in range(datediff):\n",
    "                m = Prophet()\n",
    "                m.fit(all_dau_pdf.iloc[:-datediff+i])\n",
    "                future = m.make_future_dataframe(periods=1)\n",
    "                forecast = m.predict(future).tail(1)\n",
    "                last_predict_csv = last_predict_csv.append(forecast[['ds', 'yhat', 'yhat_lower', 'yhat_upper']])\n",
    "            last_predict_csv['ds'] = last_predict_csv['ds'].apply(lambda x:str(x)[0:10])\n",
    "            last_predict_csv.to_csv('mau_prophet_data.csv',index=False)\n",
    "    generate_prophet_data(this_month,this_date,all_dau_pdf,days)\n",
    "    cursor.close()\n",
    "    conn.close()\n",
    "    return this_month_mau_till_now,this_month_target_mau,round((this_month_mau_till_now/this_month_target_mau)*100,2),all_dau_pdf.iloc[-days:]"
   ]
  },
  {
   "cell_type": "code",
   "execution_count": 6,
   "id": "three-operator",
   "metadata": {},
   "outputs": [
    {
     "name": "stderr",
     "output_type": "stream",
     "text": [
      "INFO:numexpr.utils:Note: NumExpr detected 64 cores but \"NUMEXPR_MAX_THREADS\" not set, so enforcing safe limit of 8.\n",
      "INFO:numexpr.utils:NumExpr defaulting to 8 threads.\n",
      "INFO:fbprophet:Disabling yearly seasonality. Run prophet with yearly_seasonality=True to override this.\n",
      "INFO:fbprophet:Disabling daily seasonality. Run prophet with daily_seasonality=True to override this.\n",
      "INFO:fbprophet:n_changepoints greater than number of observations. Using 22.\n"
     ]
    },
    {
     "data": {
      "text/html": [
       "\n",
       "        <iframe\n",
       "            width=\"100%\"\n",
       "            height=\"650\"\n",
       "            src=\"http://zize.aift.ftwhale.com:8082/proxy/8050/\"\n",
       "            frameborder=\"0\"\n",
       "            allowfullscreen\n",
       "        ></iframe>\n",
       "        "
      ],
      "text/plain": [
       "<IPython.lib.display.IFrame at 0x7f03791bc450>"
      ]
     },
     "metadata": {},
     "output_type": "display_data"
    },
    {
     "name": "stdout",
     "output_type": "stream",
     "text": [
      "i 1\n",
      "j 1\n"
     ]
    },
    {
     "name": "stderr",
     "output_type": "stream",
     "text": [
      "INFO:fbprophet:Disabling yearly seasonality. Run prophet with yearly_seasonality=True to override this.\n",
      "INFO:fbprophet:Disabling daily seasonality. Run prophet with daily_seasonality=True to override this.\n",
      "INFO:fbprophet:n_changepoints greater than number of observations. Using 22.\n",
      "INFO:fbprophet:Disabling yearly seasonality. Run prophet with yearly_seasonality=True to override this.\n",
      "INFO:fbprophet:Disabling daily seasonality. Run prophet with daily_seasonality=True to override this.\n",
      "INFO:fbprophet:n_changepoints greater than number of observations. Using 23.\n"
     ]
    },
    {
     "name": "stdout",
     "output_type": "stream",
     "text": [
      "           ds        yhat  yhat_lower  yhat_upper\n",
      "0  2020-03-01  211.608005  167.066933  258.035149\n",
      "1  2020-03-02  214.612010  169.178082  265.161286\n",
      "            ds    y\n",
      "29  2020-03-01  294\n",
      "30  2020-03-02  287\n",
      "i 2\n",
      "j 2\n"
     ]
    },
    {
     "name": "stderr",
     "output_type": "stream",
     "text": [
      "INFO:fbprophet:Disabling yearly seasonality. Run prophet with yearly_seasonality=True to override this.\n",
      "INFO:fbprophet:Disabling daily seasonality. Run prophet with daily_seasonality=True to override this.\n",
      "INFO:fbprophet:n_changepoints greater than number of observations. Using 22.\n",
      "INFO:fbprophet:Disabling yearly seasonality. Run prophet with yearly_seasonality=True to override this.\n",
      "INFO:fbprophet:Disabling daily seasonality. Run prophet with daily_seasonality=True to override this.\n",
      "INFO:fbprophet:n_changepoints greater than number of observations. Using 23.\n",
      "INFO:fbprophet:Disabling yearly seasonality. Run prophet with yearly_seasonality=True to override this.\n",
      "INFO:fbprophet:Disabling daily seasonality. Run prophet with daily_seasonality=True to override this.\n",
      "INFO:fbprophet:n_changepoints greater than number of observations. Using 23.\n"
     ]
    },
    {
     "name": "stdout",
     "output_type": "stream",
     "text": [
      "           ds        yhat  yhat_lower  yhat_upper\n",
      "0  2020-03-01  211.608005  165.303810  256.859129\n",
      "1  2020-03-02  214.612010  161.388591  264.747907\n",
      "2  2020-03-03  203.385352  152.046472  250.886636\n",
      "            ds    y\n",
      "29  2020-03-01  294\n",
      "30  2020-03-02  287\n",
      "31  2020-03-03  292\n",
      "i 3\n",
      "j 3\n"
     ]
    },
    {
     "name": "stderr",
     "output_type": "stream",
     "text": [
      "INFO:fbprophet:Disabling yearly seasonality. Run prophet with yearly_seasonality=True to override this.\n",
      "INFO:fbprophet:Disabling daily seasonality. Run prophet with daily_seasonality=True to override this.\n",
      "INFO:fbprophet:n_changepoints greater than number of observations. Using 22.\n",
      "INFO:fbprophet:Disabling yearly seasonality. Run prophet with yearly_seasonality=True to override this.\n",
      "INFO:fbprophet:Disabling daily seasonality. Run prophet with daily_seasonality=True to override this.\n",
      "INFO:fbprophet:n_changepoints greater than number of observations. Using 23.\n",
      "INFO:fbprophet:Disabling yearly seasonality. Run prophet with yearly_seasonality=True to override this.\n",
      "INFO:fbprophet:Disabling daily seasonality. Run prophet with daily_seasonality=True to override this.\n",
      "INFO:fbprophet:n_changepoints greater than number of observations. Using 23.\n",
      "INFO:fbprophet:Disabling yearly seasonality. Run prophet with yearly_seasonality=True to override this.\n",
      "INFO:fbprophet:Disabling daily seasonality. Run prophet with daily_seasonality=True to override this.\n",
      "INFO:fbprophet:n_changepoints greater than number of observations. Using 24.\n"
     ]
    },
    {
     "name": "stdout",
     "output_type": "stream",
     "text": [
      "           ds        yhat  yhat_lower  yhat_upper\n",
      "0  2020-03-01  211.608005  166.085924  258.307159\n",
      "1  2020-03-02  214.612010  163.076967  260.823552\n",
      "2  2020-03-03  203.385352  155.440088  256.280145\n",
      "3  2020-03-04  220.873393  169.194218  270.802020\n",
      "            ds    y\n",
      "29  2020-03-01  294\n",
      "30  2020-03-02  287\n",
      "31  2020-03-03  292\n",
      "32  2020-03-04  275\n"
     ]
    },
    {
     "name": "stderr",
     "output_type": "stream",
     "text": [
      "INFO:fbprophet:Disabling yearly seasonality. Run prophet with yearly_seasonality=True to override this.\n",
      "INFO:fbprophet:Disabling daily seasonality. Run prophet with daily_seasonality=True to override this.\n"
     ]
    },
    {
     "name": "stdout",
     "output_type": "stream",
     "text": [
      "j 4\n",
      "i 4\n"
     ]
    },
    {
     "name": "stderr",
     "output_type": "stream",
     "text": [
      "INFO:fbprophet:n_changepoints greater than number of observations. Using 22.\n",
      "INFO:fbprophet:Disabling yearly seasonality. Run prophet with yearly_seasonality=True to override this.\n",
      "INFO:fbprophet:Disabling daily seasonality. Run prophet with daily_seasonality=True to override this.\n",
      "INFO:fbprophet:n_changepoints greater than number of observations. Using 23.\n",
      "INFO:fbprophet:Disabling yearly seasonality. Run prophet with yearly_seasonality=True to override this.\n",
      "INFO:fbprophet:Disabling daily seasonality. Run prophet with daily_seasonality=True to override this.\n",
      "INFO:fbprophet:n_changepoints greater than number of observations. Using 23.\n",
      "INFO:fbprophet:Disabling yearly seasonality. Run prophet with yearly_seasonality=True to override this.\n",
      "INFO:fbprophet:Disabling daily seasonality. Run prophet with daily_seasonality=True to override this.\n",
      "INFO:fbprophet:n_changepoints greater than number of observations. Using 24.\n",
      "INFO:fbprophet:Disabling yearly seasonality. Run prophet with yearly_seasonality=True to override this.\n",
      "INFO:fbprophet:Disabling daily seasonality. Run prophet with daily_seasonality=True to override this.\n"
     ]
    },
    {
     "name": "stdout",
     "output_type": "stream",
     "text": [
      "           ds        yhat  yhat_lower  yhat_upper\n",
      "0  2020-03-01  211.608005  163.453216  257.933204\n",
      "1  2020-03-02  214.612010  165.001416  266.683869\n",
      "2  2020-03-03  203.385352  151.552777  252.401915\n",
      "3  2020-03-04  220.873393  170.533602  271.318481\n",
      "4  2020-03-05  227.396688  176.854764  279.428430\n",
      "            ds    y\n",
      "29  2020-03-01  294\n",
      "30  2020-03-02  287\n",
      "31  2020-03-03  292\n",
      "32  2020-03-04  275\n",
      "33  2020-03-05  284\n",
      "i 5\n",
      "j 5\n"
     ]
    },
    {
     "name": "stderr",
     "output_type": "stream",
     "text": [
      "INFO:fbprophet:Disabling yearly seasonality. Run prophet with yearly_seasonality=True to override this.\n",
      "INFO:fbprophet:Disabling daily seasonality. Run prophet with daily_seasonality=True to override this.\n",
      "INFO:fbprophet:n_changepoints greater than number of observations. Using 22.\n",
      "INFO:fbprophet:Disabling yearly seasonality. Run prophet with yearly_seasonality=True to override this.\n",
      "INFO:fbprophet:Disabling daily seasonality. Run prophet with daily_seasonality=True to override this.\n",
      "INFO:fbprophet:n_changepoints greater than number of observations. Using 23.\n",
      "INFO:fbprophet:Disabling yearly seasonality. Run prophet with yearly_seasonality=True to override this.\n",
      "INFO:fbprophet:Disabling daily seasonality. Run prophet with daily_seasonality=True to override this.\n",
      "INFO:fbprophet:n_changepoints greater than number of observations. Using 23.\n",
      "INFO:fbprophet:Disabling yearly seasonality. Run prophet with yearly_seasonality=True to override this.\n",
      "INFO:fbprophet:Disabling daily seasonality. Run prophet with daily_seasonality=True to override this.\n",
      "INFO:fbprophet:n_changepoints greater than number of observations. Using 24.\n",
      "INFO:fbprophet:Disabling yearly seasonality. Run prophet with yearly_seasonality=True to override this.\n",
      "INFO:fbprophet:Disabling daily seasonality. Run prophet with daily_seasonality=True to override this.\n",
      "INFO:fbprophet:Disabling yearly seasonality. Run prophet with yearly_seasonality=True to override this.\n",
      "INFO:fbprophet:Disabling daily seasonality. Run prophet with daily_seasonality=True to override this.\n"
     ]
    },
    {
     "name": "stdout",
     "output_type": "stream",
     "text": [
      "           ds        yhat  yhat_lower  yhat_upper\n",
      "0  2020-03-01  211.608005  163.863220  259.360334\n",
      "1  2020-03-02  214.612010  167.662780  265.642272\n",
      "2  2020-03-03  203.385352  150.771049  253.340447\n",
      "3  2020-03-04  220.873393  166.878078  274.547733\n",
      "4  2020-03-05  227.396688  176.532996  283.182940\n",
      "5  2020-03-06  235.198894  181.764846  290.494337\n",
      "            ds    y\n",
      "29  2020-03-01  294\n",
      "30  2020-03-02  287\n",
      "31  2020-03-03  292\n",
      "32  2020-03-04  275\n",
      "33  2020-03-05  284\n",
      "34  2020-03-06  296\n",
      "i 6\n",
      "j 6\n"
     ]
    },
    {
     "name": "stderr",
     "output_type": "stream",
     "text": [
      "INFO:fbprophet:Disabling yearly seasonality. Run prophet with yearly_seasonality=True to override this.\n",
      "INFO:fbprophet:Disabling daily seasonality. Run prophet with daily_seasonality=True to override this.\n",
      "INFO:fbprophet:n_changepoints greater than number of observations. Using 22.\n",
      "INFO:fbprophet:Disabling yearly seasonality. Run prophet with yearly_seasonality=True to override this.\n",
      "INFO:fbprophet:Disabling daily seasonality. Run prophet with daily_seasonality=True to override this.\n",
      "INFO:fbprophet:n_changepoints greater than number of observations. Using 23.\n",
      "INFO:fbprophet:Disabling yearly seasonality. Run prophet with yearly_seasonality=True to override this.\n",
      "INFO:fbprophet:Disabling daily seasonality. Run prophet with daily_seasonality=True to override this.\n",
      "INFO:fbprophet:n_changepoints greater than number of observations. Using 23.\n",
      "INFO:fbprophet:Disabling yearly seasonality. Run prophet with yearly_seasonality=True to override this.\n",
      "INFO:fbprophet:Disabling daily seasonality. Run prophet with daily_seasonality=True to override this.\n",
      "INFO:fbprophet:n_changepoints greater than number of observations. Using 24.\n"
     ]
    },
    {
     "name": "stdout",
     "output_type": "stream",
     "text": [
      "i 7\n",
      "j 7\n"
     ]
    },
    {
     "name": "stderr",
     "output_type": "stream",
     "text": [
      "INFO:fbprophet:Disabling yearly seasonality. Run prophet with yearly_seasonality=True to override this.\n",
      "INFO:fbprophet:Disabling daily seasonality. Run prophet with daily_seasonality=True to override this.\n",
      "INFO:fbprophet:n_changepoints greater than number of observations. Using 22.\n",
      "INFO:fbprophet:Disabling yearly seasonality. Run prophet with yearly_seasonality=True to override this.\n",
      "INFO:fbprophet:Disabling daily seasonality. Run prophet with daily_seasonality=True to override this.\n",
      "INFO:fbprophet:Disabling yearly seasonality. Run prophet with yearly_seasonality=True to override this.\n",
      "INFO:fbprophet:Disabling daily seasonality. Run prophet with daily_seasonality=True to override this.\n",
      "INFO:fbprophet:n_changepoints greater than number of observations. Using 23.\n",
      "INFO:fbprophet:Disabling yearly seasonality. Run prophet with yearly_seasonality=True to override this.\n",
      "INFO:fbprophet:Disabling daily seasonality. Run prophet with daily_seasonality=True to override this.\n",
      "INFO:fbprophet:Disabling yearly seasonality. Run prophet with yearly_seasonality=True to override this.\n",
      "INFO:fbprophet:Disabling daily seasonality. Run prophet with daily_seasonality=True to override this.\n",
      "INFO:fbprophet:n_changepoints greater than number of observations. Using 23.\n"
     ]
    },
    {
     "name": "stdout",
     "output_type": "stream",
     "text": [
      "i 8\n",
      "j 8\n"
     ]
    },
    {
     "name": "stderr",
     "output_type": "stream",
     "text": [
      "INFO:fbprophet:Disabling yearly seasonality. Run prophet with yearly_seasonality=True to override this.\n",
      "INFO:fbprophet:Disabling daily seasonality. Run prophet with daily_seasonality=True to override this.\n",
      "INFO:fbprophet:n_changepoints greater than number of observations. Using 22.\n",
      "INFO:fbprophet:Disabling yearly seasonality. Run prophet with yearly_seasonality=True to override this.\n",
      "INFO:fbprophet:Disabling daily seasonality. Run prophet with daily_seasonality=True to override this.\n",
      "INFO:fbprophet:Disabling yearly seasonality. Run prophet with yearly_seasonality=True to override this.\n",
      "INFO:fbprophet:Disabling daily seasonality. Run prophet with daily_seasonality=True to override this.\n",
      "INFO:fbprophet:n_changepoints greater than number of observations. Using 24.\n",
      "INFO:fbprophet:Disabling yearly seasonality. Run prophet with yearly_seasonality=True to override this.\n",
      "INFO:fbprophet:Disabling daily seasonality. Run prophet with daily_seasonality=True to override this.\n",
      "INFO:fbprophet:n_changepoints greater than number of observations. Using 23.\n"
     ]
    },
    {
     "name": "stdout",
     "output_type": "stream",
     "text": [
      "           ds        yhat  yhat_lower  yhat_upper\n",
      "0  2020-03-01  211.608005  163.581987  257.675214\n",
      "1  2020-03-02  214.612010  168.542632  260.771061\n",
      "2  2020-03-03  203.385352  151.676272  250.990066\n",
      "3  2020-03-04  220.873393  167.322775  272.873697\n",
      "4  2020-03-05  227.396688  175.690384  279.024528\n",
      "5  2020-03-06  235.198894  181.119784  288.861290\n",
      "6  2020-03-07  192.027690  138.198535  247.631938\n",
      "            ds    y\n",
      "29  2020-03-01  294\n",
      "30  2020-03-02  287\n",
      "31  2020-03-03  292\n",
      "32  2020-03-04  275\n",
      "33  2020-03-05  284\n",
      "34  2020-03-06  296\n",
      "35  2020-03-07  279\n",
      "j 9\n",
      "i 9\n"
     ]
    },
    {
     "name": "stderr",
     "output_type": "stream",
     "text": [
      "INFO:fbprophet:Disabling yearly seasonality. Run prophet with yearly_seasonality=True to override this.\n",
      "INFO:fbprophet:Disabling daily seasonality. Run prophet with daily_seasonality=True to override this.\n",
      "INFO:fbprophet:Disabling yearly seasonality. Run prophet with yearly_seasonality=True to override this.\n",
      "INFO:fbprophet:Disabling daily seasonality. Run prophet with daily_seasonality=True to override this.\n",
      "INFO:fbprophet:n_changepoints greater than number of observations. Using 22.\n",
      "INFO:fbprophet:Disabling yearly seasonality. Run prophet with yearly_seasonality=True to override this.\n",
      "INFO:fbprophet:Disabling daily seasonality. Run prophet with daily_seasonality=True to override this.\n",
      "INFO:fbprophet:n_changepoints greater than number of observations. Using 23.\n",
      "INFO:fbprophet:Disabling yearly seasonality. Run prophet with yearly_seasonality=True to override this.\n",
      "INFO:fbprophet:Disabling daily seasonality. Run prophet with daily_seasonality=True to override this.\n",
      "INFO:fbprophet:Disabling yearly seasonality. Run prophet with yearly_seasonality=True to override this.\n",
      "INFO:fbprophet:Disabling daily seasonality. Run prophet with daily_seasonality=True to override this.\n",
      "INFO:fbprophet:n_changepoints greater than number of observations. Using 23.\n",
      "INFO:fbprophet:Disabling yearly seasonality. Run prophet with yearly_seasonality=True to override this.\n",
      "INFO:fbprophet:Disabling daily seasonality. Run prophet with daily_seasonality=True to override this.\n",
      "INFO:fbprophet:n_changepoints greater than number of observations. Using 24.\n"
     ]
    },
    {
     "name": "stdout",
     "output_type": "stream",
     "text": [
      "i 10\n",
      "j 10\n"
     ]
    },
    {
     "name": "stderr",
     "output_type": "stream",
     "text": [
      "INFO:fbprophet:Disabling yearly seasonality. Run prophet with yearly_seasonality=True to override this.\n",
      "INFO:fbprophet:Disabling daily seasonality. Run prophet with daily_seasonality=True to override this.\n",
      "INFO:fbprophet:n_changepoints greater than number of observations. Using 22.\n",
      "INFO:fbprophet:Disabling yearly seasonality. Run prophet with yearly_seasonality=True to override this.\n",
      "INFO:fbprophet:Disabling daily seasonality. Run prophet with daily_seasonality=True to override this.\n",
      "INFO:fbprophet:Disabling yearly seasonality. Run prophet with yearly_seasonality=True to override this.\n",
      "INFO:fbprophet:Disabling daily seasonality. Run prophet with daily_seasonality=True to override this.\n",
      "INFO:fbprophet:n_changepoints greater than number of observations. Using 23.\n",
      "INFO:fbprophet:Disabling yearly seasonality. Run prophet with yearly_seasonality=True to override this.\n",
      "INFO:fbprophet:Disabling daily seasonality. Run prophet with daily_seasonality=True to override this.\n",
      "INFO:fbprophet:Disabling yearly seasonality. Run prophet with yearly_seasonality=True to override this.\n",
      "INFO:fbprophet:Disabling daily seasonality. Run prophet with daily_seasonality=True to override this.\n",
      "INFO:fbprophet:n_changepoints greater than number of observations. Using 23.\n",
      "INFO:fbprophet:Disabling yearly seasonality. Run prophet with yearly_seasonality=True to override this.\n",
      "INFO:fbprophet:Disabling daily seasonality. Run prophet with daily_seasonality=True to override this.\n"
     ]
    },
    {
     "name": "stdout",
     "output_type": "stream",
     "text": [
      "j 11\n",
      "i 11\n"
     ]
    },
    {
     "name": "stderr",
     "output_type": "stream",
     "text": [
      "INFO:fbprophet:Disabling yearly seasonality. Run prophet with yearly_seasonality=True to override this.\n",
      "INFO:fbprophet:Disabling daily seasonality. Run prophet with daily_seasonality=True to override this.\n",
      "INFO:fbprophet:n_changepoints greater than number of observations. Using 22.\n",
      "INFO:fbprophet:Disabling yearly seasonality. Run prophet with yearly_seasonality=True to override this.\n",
      "INFO:fbprophet:Disabling daily seasonality. Run prophet with daily_seasonality=True to override this.\n",
      "INFO:fbprophet:n_changepoints greater than number of observations. Using 24.\n",
      "INFO:fbprophet:Disabling yearly seasonality. Run prophet with yearly_seasonality=True to override this.\n",
      "INFO:fbprophet:Disabling daily seasonality. Run prophet with daily_seasonality=True to override this.\n"
     ]
    }
   ],
   "source": [
    "i = 0\n",
    "date='2020-03-01'\n",
    "get_control_data(date,i)\n",
    "this_month_mau = pd.read_csv('target_mau.csv')\n",
    "all_dau_pdfs=pd.read_csv('currrent_mau.csv')\n",
    "all_dau_pdfs.columns=['ds','y']\n",
    "fig = go.Figure()\n",
    "fig.add_trace(go.Scatter(x=this_month_mau['ds'], y=this_month_mau['MAU'], name='本月目标MAU',line=dict(color='firebrick', width=4,dash='dash')))\n",
    "fig.add_trace(go.Scatter(x=all_dau_pdfs['ds'], y=all_dau_pdfs['y'], mode='lines',name='实际MAU',line=dict(color='royalblue', width=4)))\n",
    "\n",
    "j=0\n",
    "this_month_mau_till_now,this_month_target_mau,complete_rate_till_now,all_dau_pdf = get_data(date,j)\n",
    "figs = px.line(all_dau_pdf, x=\"ds\", y=\"y\")\n",
    "\n",
    "app.layout = html.Div(children=[\n",
    "    dcc.Interval(id=\"counter\", interval=20000, n_intervals=0),\n",
    "    html.H1(children='MAU'),\n",
    "    html.Div(id='goal',children='''至今：0 目标：500 完成率：0%'''),\n",
    "    dcc.Graph(\n",
    "        id='line',\n",
    "        figure=fig\n",
    "    ),\n",
    "    dcc.Dropdown(id='branch',\n",
    "        options=[{'label':'所有支行', 'value':'所有支行'},{'label':'所属支行1','value':'所属支行1'},\n",
    "                 {'label':'所属支行2','value':'所属支行2'},{'label':'所属支行3','value':'所属支行3'}],\n",
    "        value='所有支行', style={'width': '40%'}),\n",
    "    html.H1(children='MAU'),\n",
    "    html.Div(id='goals',children='''至今：0 目标：500 完成率：0%'''),\n",
    "    dcc.Graph(\n",
    "        id='lines',\n",
    "        figure=figs\n",
    "    ),\n",
    "    html.Div(id='exception',children='''异常点: '''),\n",
    "])\n",
    "\n",
    "@app.callback(\n",
    "    [Output(component_id='goal', component_property='children'),Output(component_id='line',component_property='figure')],\n",
    "    [Input(component_id='counter', component_property='n_intervals'),Input('counter','n_intervals')]\n",
    ")\n",
    "def update_div_and_graph(dropdown,n_intervals):\n",
    "    global i\n",
    "    i = i+1\n",
    "    print(\"i\",i)\n",
    "    this_month_mau_till_now,this_month_target_mau,complete_rate_till_now = get_control_data(date,i)\n",
    "    all_dau_pdfs=pd.read_csv('currrent_mau.csv')\n",
    "    all_dau_pdfs.columns=['ds','y']\n",
    "    this_month_mau = pd.read_csv('target_mau.csv')\n",
    "    fig = go.Figure()\n",
    "    fig.add_trace(go.Scatter(x=this_month_mau['ds'], y=this_month_mau['MAU'], name='本月目标MAU',line=dict(color='firebrick', width=4, dash='dash')))\n",
    "    fig.add_trace(go.Scatter(x=all_dau_pdfs['ds'], y=all_dau_pdfs['y'], mode='lines',name='实际MAU',line=dict(color='royalblue', width=4)))\n",
    "    return '''至今：{} 目标：{} 完成率：{}%'''.format(this_month_mau_till_now,this_month_target_mau,complete_rate_till_now),fig\n",
    "\n",
    "\n",
    "@app.callback(\n",
    "    [Output(component_id='goals', component_property='children'),Output(component_id='exception', component_property='children'),Output(component_id='lines',component_property='figure')],\n",
    "    [Input(component_id='branch', component_property='value'),Input('counter','n_intervals')]\n",
    ")\n",
    "def update_output_div(branch,n_intervals):\n",
    "####这里我设置了每5秒钟更新一次数据，而这里的i表示从2020-03-01号开始加i天\n",
    "    global j\n",
    "    j = j+1\n",
    "    print(\"j\",j)\n",
    "    this_month_mau_till_now,this_month_target_mau,complete_rate_till_now,all_dau_pdf = get_data(date,j,branch)\n",
    "    this_month_predict_pdf = pd.read_csv('mau_prophet_data.csv')\n",
    "    print(this_month_predict_pdf.head(10))\n",
    "    final_pdf = this_month_predict_pdf.merge(all_dau_pdf,on='ds',how='inner')[['ds','y','yhat','yhat_upper']] #实际应该用yhat_lower\n",
    "    print(all_dau_pdf)\n",
    "    final_pdf.columns = ['日期','实际值','预测值下界','预测值上界']\n",
    "    final_pdf['exception'] = final_pdf['实际值'] - final_pdf['预测值下界']\n",
    "    exception_points = final_pdf.loc[final_pdf['exception']<0]['日期'].values.tolist()\n",
    "####比prophet值低的dau的日期即为异常点\n",
    "    exception_string = '异常点: '\n",
    "    for k in range(len(exception_points)):\n",
    "        exception_string = exception_string + exception_points[k] +','\n",
    "    return '''至今：{} 目标：{} 完成率：{}%'''.format(this_month_mau_till_now,this_month_target_mau,complete_rate_till_now),exception_string[:-1],px.line(final_pdf, x=\"日期\", y=[\"实际值\",\"预测值下界\",\"预测值上界\"])\n",
    "\n",
    "\n",
    "if __name__ == '__main__':\n",
    "#app.run_server(debug=True) \n",
    "     app.run_server(debug=True,mode=\"inline\")\n"
   ]
  },
  {
   "cell_type": "code",
   "execution_count": 7,
   "id": "bronze-copper",
   "metadata": {},
   "outputs": [
    {
     "name": "stderr",
     "output_type": "stream",
     "text": [
      "INFO:fbprophet:Disabling yearly seasonality. Run prophet with yearly_seasonality=True to override this.\n",
      "INFO:fbprophet:Disabling daily seasonality. Run prophet with daily_seasonality=True to override this.\n",
      "INFO:fbprophet:Disabling yearly seasonality. Run prophet with yearly_seasonality=True to override this.\n",
      "INFO:fbprophet:Disabling daily seasonality. Run prophet with daily_seasonality=True to override this.\n",
      "INFO:fbprophet:Disabling yearly seasonality. Run prophet with yearly_seasonality=True to override this.\n",
      "INFO:fbprophet:Disabling daily seasonality. Run prophet with daily_seasonality=True to override this.\n",
      "INFO:fbprophet:n_changepoints greater than number of observations. Using 23.\n"
     ]
    }
   ],
   "source": [
    "import pyspark"
   ]
  },
  {
   "cell_type": "code",
   "execution_count": null,
   "id": "better-tonight",
   "metadata": {},
   "outputs": [],
   "source": [
    "help"
   ]
  }
 ],
 "metadata": {
  "kernelspec": {
   "display_name": "Python 3",
   "language": "python",
   "name": "python3"
  },
  "language_info": {
   "codemirror_mode": {
    "name": "ipython",
    "version": 3
   },
   "file_extension": ".py",
   "mimetype": "text/x-python",
   "name": "python",
   "nbconvert_exporter": "python",
   "pygments_lexer": "ipython3",
   "version": "3.7.5"
  }
 },
 "nbformat": 4,
 "nbformat_minor": 5
}
